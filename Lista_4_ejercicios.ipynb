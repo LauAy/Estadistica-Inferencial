{
  "nbformat": 4,
  "nbformat_minor": 0,
  "metadata": {
    "colab": {
      "provenance": []
    },
    "kernelspec": {
      "name": "python3",
      "display_name": "Python 3"
    },
    "language_info": {
      "name": "python"
    }
  },
  "cells": [
    {
      "cell_type": "markdown",
      "source": [
        "# **Ejercicios Lista #4**\n",
        "Laura Valentina Ayala U00177896"
      ],
      "metadata": {
        "id": "Vh6jzj13SEdC"
      }
    },
    {
      "cell_type": "code",
      "source": [
        "# Ejercicio #1: Altura promedio\n",
        "\n",
        "import math\n",
        "import scipy.stats as stats\n",
        "\n",
        "# Datos del problema\n",
        "media_muestral = 170         # Media muestral de palabras con faltas de ortografía\n",
        "sigma = 10                  # Desviación estándar poblacional\n",
        "n = 50                        # Tamaño de la muestra\n",
        "z_alpha_2 = stats.norm.ppf(0.975)             # Valor crítico Z para 95% de confianza\n",
        "\n",
        "# Cálculo del error estándar\n",
        "error_estandar = sigma / math.sqrt(n)\n",
        "\n",
        "# Cálculo del margen de error\n",
        "margen_error = z_alpha_2 * error_estandar\n",
        "\n",
        "# Construcción del intervalo de confianza\n",
        "limite_inferior = media_muestral - margen_error\n",
        "limite_superior = media_muestral + margen_error\n",
        "\n",
        "# Mostrar resultados\n",
        "print(f\"Datos altura estudiantes universitarios\")\n",
        "print(f\"Media muestral: {media_muestral:.2f} cm\")\n",
        "print(f\"Error estándar: {error_estandar:.3f} cm\")\n",
        "print(f\"Margen de error: {margen_error:.3f} cm\")\n",
        "print(f\"Intervalo de confianza al 95%: [{limite_inferior:.3f}, {limite_superior:.3f}] cm\")"
      ],
      "metadata": {
        "colab": {
          "base_uri": "https://localhost:8080/"
        },
        "id": "o5wZm-0PS-gI",
        "outputId": "f23a496c-8b02-4c94-989c-443ab35ec9d1"
      },
      "execution_count": null,
      "outputs": [
        {
          "output_type": "stream",
          "name": "stdout",
          "text": [
            "Datos altura estudiantes universitarios\n",
            "Media muestral: 170.00 cm\n",
            "Error estándar: 1.414 cm\n",
            "Margen de error: 2.772 cm\n",
            "Intervalo de confianza al 95%: [167.228, 172.772] cm\n"
          ]
        }
      ]
    },
    {
      "cell_type": "code",
      "source": [
        "# Ejercicio #2: Calificación examen nacional\n",
        "\n",
        "import math\n",
        "import scipy.stats as stats\n",
        "\n",
        "# Datos del problema\n",
        "media_muestral = 75         # Media muestral de palabras con faltas de ortografía\n",
        "sigma = 15                  # Desviación estándar poblacional\n",
        "n = 100                        # Tamaño de la muestra\n",
        "z_alpha_2 = stats.norm.ppf(0.95)             # Valor crítico Z para 95% de confianza\n",
        "\n",
        "# Cálculo del error estándar\n",
        "error_estandar = sigma / math.sqrt(n)\n",
        "\n",
        "# Cálculo del margen de error\n",
        "margen_error = z_alpha_2 * error_estandar\n",
        "\n",
        "# Construcción del intervalo de confianza\n",
        "limite_inferior = media_muestral - margen_error\n",
        "limite_superior = media_muestral + margen_error\n",
        "\n",
        "# Mostrar resultados\n",
        "print(f\"Datos examen nacional\")\n",
        "print(f\"Media muestral: {media_muestral:.2f} puntos\")\n",
        "print(f\"Error estándar: {error_estandar:.3f} puntos\")\n",
        "print(f\"Margen de error: {margen_error:.3f} puntos\")\n",
        "print(f\"Intervalo de confianza al 90%: [{limite_inferior:.3f}, {limite_superior:.3f}] puntos\")"
      ],
      "metadata": {
        "colab": {
          "base_uri": "https://localhost:8080/"
        },
        "id": "RnCaT1FzVooI",
        "outputId": "c89ddac7-e788-4249-c15b-65bf213e8ef7"
      },
      "execution_count": null,
      "outputs": [
        {
          "output_type": "stream",
          "name": "stdout",
          "text": [
            "Datos examen nacional\n",
            "Media muestral: 75.00 puntos\n",
            "Error estándar: 1.500 puntos\n",
            "Margen de error: 2.467 puntos\n",
            "Intervalo de confianza al 90%: [72.533, 77.467] puntos\n"
          ]
        }
      ]
    },
    {
      "cell_type": "code",
      "source": [
        "# Ejercicio #4: Fábrica de tornillos\n",
        "\n",
        "import math\n",
        "import scipy.stats as stats\n",
        "\n",
        "# Datos del problema\n",
        "media_muestral = 2.5         # Media muestral de palabras con faltas de ortografía\n",
        "sigma = 0.2                  # Desviación estándar poblacional\n",
        "n = 30                       # Tamaño de la muestra\n",
        "z_alpha_2 = stats.norm.ppf(0.99)             # Valor crítico Z para 95% de confianza\n",
        "\n",
        "# Cálculo del error estándar\n",
        "error_estandar = sigma / math.sqrt(n)\n",
        "\n",
        "# Cálculo del margen de error\n",
        "margen_error = z_alpha_2 * error_estandar\n",
        "\n",
        "# Construcción del intervalo de confianza\n",
        "limite_inferior = media_muestral - margen_error\n",
        "limite_superior = media_muestral + margen_error\n",
        "\n",
        "# Mostrar resultados\n",
        "print(f\"Datos fábrica de tornillos\")\n",
        "print(f\"Media muestral: {media_muestral:.2f} cm\")\n",
        "print(f\"Error estándar: {error_estandar:.3f} cm\")\n",
        "print(f\"Margen de error: {margen_error:.3f} cm\")\n",
        "print(f\"Intervalo de confianza al 99%: [{limite_inferior:.3f}, {limite_superior:.3f}] cm\")"
      ],
      "metadata": {
        "colab": {
          "base_uri": "https://localhost:8080/"
        },
        "id": "ydkYhNUhWP--",
        "outputId": "0eda30bf-a29c-4b92-f3dd-b47ca95eaccb"
      },
      "execution_count": null,
      "outputs": [
        {
          "output_type": "stream",
          "name": "stdout",
          "text": [
            "Datos fábrica de tornillos\n",
            "Media muestral: 2.50 cm\n",
            "Error estándar: 0.037 cm\n",
            "Margen de error: 0.085 cm\n",
            "Intervalo de confianza al 99%: [2.415, 2.585] cm\n"
          ]
        }
      ]
    },
    {
      "cell_type": "code",
      "source": [
        "# Ejercicio #4: Fabricante baterías\n",
        "\n",
        "import math\n",
        "import scipy.stats as stats\n",
        "\n",
        "# Datos del problema\n",
        "media_muestral = 12         # Media muestral de palabras con faltas de ortografía\n",
        "sigma = 1.5                  # Desviación estándar poblacional\n",
        "n = 25                        # Tamaño de la muestra\n",
        "z_alpha_2 = stats.norm.ppf(0.975)             # Valor crítico Z para 95% de confianza\n",
        "\n",
        "# Cálculo del error estándar\n",
        "error_estandar = sigma / math.sqrt(n)\n",
        "\n",
        "# Cálculo del margen de error\n",
        "margen_error = z_alpha_2 * error_estandar\n",
        "\n",
        "# Construcción del intervalo de confianza\n",
        "limite_inferior = media_muestral - margen_error\n",
        "limite_superior = media_muestral + margen_error\n",
        "\n",
        "# Mostrar resultados\n",
        "print(f\"Datos baterías\")\n",
        "print(f\"Media muestral: {media_muestral:.2f} horas\")\n",
        "print(f\"Error estándar: {error_estandar:.3f} horas\")\n",
        "print(f\"Margen de error: {margen_error:.3f} horas\")\n",
        "print(f\"Intervalo de confianza al 95%: [{limite_inferior:.3f}, {limite_superior:.3f}] horas\")"
      ],
      "metadata": {
        "colab": {
          "base_uri": "https://localhost:8080/"
        },
        "id": "WO8fKY6CWyC-",
        "outputId": "f180112a-dcf3-4aae-d3e3-f4dc05d04234"
      },
      "execution_count": null,
      "outputs": [
        {
          "output_type": "stream",
          "name": "stdout",
          "text": [
            "Datos baterías\n",
            "Media muestral: 12.00 horas\n",
            "Error estándar: 0.300 horas\n",
            "Margen de error: 0.588 horas\n",
            "Intervalo de confianza al 95%: [11.412, 12.588] horas\n"
          ]
        }
      ]
    },
    {
      "cell_type": "code",
      "source": [
        "# Ejercicio #5: Fertilizante de plantas\n",
        "\n",
        "import math\n",
        "import scipy.stats as stats\n",
        "\n",
        "# Datos del problema\n",
        "media_muestral = 20         # Media muestral de palabras con faltas de ortografía\n",
        "sigma = 4                  # Desviación estándar poblacional\n",
        "n = 40                        # Tamaño de la muestra\n",
        "z_alpha_2 = stats.norm.ppf(0.975)             # Valor crítico Z para 95% de confianza\n",
        "\n",
        "# Cálculo del error estándar\n",
        "error_estandar = sigma / math.sqrt(n)\n",
        "\n",
        "# Cálculo del margen de error\n",
        "margen_error = z_alpha_2 * error_estandar\n",
        "\n",
        "# Construcción del intervalo de confianza\n",
        "limite_inferior = media_muestral - margen_error\n",
        "limite_superior = media_muestral + margen_error\n",
        "\n",
        "# Mostrar resultados\n",
        "print(f\"Datos fertilizantes\")\n",
        "print(f\"Media muestral: {media_muestral:.2f} cm\")\n",
        "print(f\"Error estándar: {error_estandar:.3f} cm\")\n",
        "print(f\"Margen de error: {margen_error:.3f} cm\")\n",
        "print(f\"Intervalo de confianza al 95%: [{limite_inferior:.3f}, {limite_superior:.3f}] cm\")"
      ],
      "metadata": {
        "colab": {
          "base_uri": "https://localhost:8080/"
        },
        "id": "AJXNonnQXmtd",
        "outputId": "072fdc2c-bf45-4a17-861b-7a0c245bf700"
      },
      "execution_count": null,
      "outputs": [
        {
          "output_type": "stream",
          "name": "stdout",
          "text": [
            "Datos fertilizantes\n",
            "Media muestral: 20.00 cm\n",
            "Error estándar: 0.632 cm\n",
            "Margen de error: 1.240 cm\n",
            "Intervalo de confianza al 95%: [18.760, 21.240] cm\n"
          ]
        }
      ]
    },
    {
      "cell_type": "code",
      "source": [
        "# Ejercicio #6: Cadena de cafeterías\n",
        "\n",
        "import math\n",
        "import scipy.stats as stats\n",
        "\n",
        "# Datos del problema\n",
        "media_muestral = 84         # Media muestral de palabras con faltas de ortografía\n",
        "sigma = 5                  # Desviación estándar poblacional\n",
        "n = 12                        # Tamaño de la muestra\n",
        "grados_libertad = n - 1      # Grados de libertad\n",
        "t_alpha_2 = stats.t.ppf(0.975, grados_libertad) # Valor crítico t para 95% de confianza\n",
        "\n",
        "# Cálculo del error estándar\n",
        "error_estandar = sigma / math.sqrt(n)\n",
        "\n",
        "# Cálculo del margen de error\n",
        "margen_error = z_alpha_2 * error_estandar\n",
        "\n",
        "# Construcción del intervalo de confianza\n",
        "limite_inferior = media_muestral - margen_error\n",
        "limite_superior = media_muestral + margen_error\n",
        "\n",
        "# Mostrar resultados\n",
        "print(f\"Datos temjperatura café\")\n",
        "print(f\"Media muestral: {media_muestral:.2f} °C\")\n",
        "print(f\"Valor crítico t: {t_alpha_2:.3f}\")\n",
        "print(f\"Error estándar: {error_estandar:.3f} °C\")\n",
        "print(f\"Margen de error: {margen_error:.3f} °C\")\n",
        "print(f\"Intervalo de confianza al 95%: [{limite_inferior:.3f}, {limite_superior:.3f}] °C\")"
      ],
      "metadata": {
        "colab": {
          "base_uri": "https://localhost:8080/"
        },
        "id": "qh4ZE2i2X04F",
        "outputId": "b45ecfb0-6640-4958-905f-2c8848b86e67"
      },
      "execution_count": null,
      "outputs": [
        {
          "output_type": "stream",
          "name": "stdout",
          "text": [
            "Datos temjperatura café\n",
            "Media muestral: 84.00 °C\n",
            "Valor crítico t: 2.201\n",
            "Error estándar: 1.443 °C\n",
            "Margen de error: 2.829 °C\n",
            "Intervalo de confianza al 95%: [81.171, 86.829] °C\n"
          ]
        }
      ]
    },
    {
      "cell_type": "code",
      "source": [
        "# Ejercicio #7: Fabricante baterías smartphone\n",
        "\n",
        "import math\n",
        "import scipy.stats as stats\n",
        "\n",
        "# Datos del problema\n",
        "media_muestral = 8         # Media muestral de palabras con faltas de ortografía\n",
        "sigma = 1.2                  # Desviación estándar poblacional\n",
        "n = 15                        # Tamaño de la muestra\n",
        "grados_libertad = n - 1      # Grados de libertad\n",
        "t_alpha_2 = stats.t.ppf(0.975, grados_libertad) # Valor crítico t para 95% de confianza\n",
        "\n",
        "# Cálculo del error estándar\n",
        "error_estandar = sigma / math.sqrt(n)\n",
        "\n",
        "# Cálculo del margen de error\n",
        "margen_error = z_alpha_2 * error_estandar\n",
        "\n",
        "# Construcción del intervalo de confianza\n",
        "limite_inferior = media_muestral - margen_error\n",
        "limite_superior = media_muestral + margen_error\n",
        "\n",
        "# Mostrar resultados\n",
        "print(f\"Datos baterías smartphones\")\n",
        "print(f\"Media muestral: {media_muestral:.2f} horas\")\n",
        "print(f\"Valor crítico t: {t_alpha_2:.3f}\")\n",
        "print(f\"Error estándar: {error_estandar:.3f} horas\")\n",
        "print(f\"Margen de error: {margen_error:.3f} horas\")\n",
        "print(f\"Intervalo de confianza al 90%: [{limite_inferior:.3f}, {limite_superior:.3f}] horas\")"
      ],
      "metadata": {
        "colab": {
          "base_uri": "https://localhost:8080/"
        },
        "id": "3tz4z2SmYHp9",
        "outputId": "0425318b-3493-45d2-f15a-d9fded44d265"
      },
      "execution_count": null,
      "outputs": [
        {
          "output_type": "stream",
          "name": "stdout",
          "text": [
            "Datos baterías smartphones\n",
            "Media muestral: 8.00 horas\n",
            "Valor crítico t: 2.145\n",
            "Error estándar: 0.310 horas\n",
            "Margen de error: 0.607 horas\n",
            "Intervalo de confianza al 90%: [7.393, 8.607] horas\n"
          ]
        }
      ]
    },
    {
      "cell_type": "code",
      "source": [
        "# Ejercicio #8: Fertilizante de plantas de maíz\n",
        "\n",
        "import math\n",
        "import scipy.stats as stats\n",
        "\n",
        "# Datos del problema\n",
        "media_muestral = 25         # Media muestral de palabras con faltas de ortografía\n",
        "sigma = 3                  # Desviación estándar poblacional\n",
        "n = 10                        # Tamaño de la muestra\n",
        "grados_libertad = n - 1      # Grados de libertad\n",
        "t_alpha_2 = stats.t.ppf(0.99, grados_libertad) # Valor crítico t para 95% de confianza\n",
        "\n",
        "# Cálculo del error estándar\n",
        "error_estandar = sigma / math.sqrt(n)\n",
        "\n",
        "# Cálculo del margen de error\n",
        "margen_error = z_alpha_2 * error_estandar\n",
        "\n",
        "# Construcción del intervalo de confianza\n",
        "limite_inferior = media_muestral - margen_error\n",
        "limite_superior = media_muestral + margen_error\n",
        "\n",
        "# Mostrar resultados\n",
        "print(f\"Datos fertilizantes maíz\")\n",
        "print(f\"Media muestral: {media_muestral:.2f} cm\")\n",
        "print(f\"Valor crítico t: {t_alpha_2:.3f}\")\n",
        "print(f\"Error estándar: {error_estandar:.3f} cm\")\n",
        "print(f\"Margen de error: {margen_error:.3f} cm\")\n",
        "print(f\"Intervalo de confianza al 99%: [{limite_inferior:.3f}, {limite_superior:.3f}] cm\")"
      ],
      "metadata": {
        "colab": {
          "base_uri": "https://localhost:8080/"
        },
        "id": "VB7Dcle-Y498",
        "outputId": "6e325a18-08ac-499f-ce11-2dc4c1c99a9f"
      },
      "execution_count": null,
      "outputs": [
        {
          "output_type": "stream",
          "name": "stdout",
          "text": [
            "Datos fertilizantes maíz\n",
            "Media muestral: 25.00 cm\n",
            "Valor crítico t: 2.821\n",
            "Error estándar: 0.949 cm\n",
            "Margen de error: 1.859 cm\n",
            "Intervalo de confianza al 99%: [23.141, 26.859] cm\n"
          ]
        }
      ]
    },
    {
      "cell_type": "code",
      "source": [
        "# Ejercicio #9: Entregas pizzería\n",
        "\n",
        "import math\n",
        "import scipy.stats as stats\n",
        "\n",
        "# Datos del problema\n",
        "media_muestral = 30         # Media muestral de palabras con faltas de ortografía\n",
        "sigma = 4                  # Desviación estándar poblacional\n",
        "n = 20                        # Tamaño de la muestra\n",
        "grados_libertad = n - 1      # Grados de libertad\n",
        "t_alpha_2 = stats.t.ppf(0.975, grados_libertad) # Valor crítico t para 95% de confianza\n",
        "\n",
        "# Cálculo del error estándar\n",
        "error_estandar = sigma / math.sqrt(n)\n",
        "\n",
        "# Cálculo del margen de error\n",
        "margen_error = z_alpha_2 * error_estandar\n",
        "\n",
        "# Construcción del intervalo de confianza\n",
        "limite_inferior = media_muestral - margen_error\n",
        "limite_superior = media_muestral + margen_error\n",
        "\n",
        "# Mostrar resultados\n",
        "print(f\"Datos entregas pizzería\")\n",
        "print(f\"Media muestral: {media_muestral:.2f} minutos\")\n",
        "print(f\"Valor crítico t: {t_alpha_2:.3f}\")\n",
        "print(f\"Error estándar: {error_estandar:.3f} minutos\")\n",
        "print(f\"Margen de error: {margen_error:.3f} minutos\")\n",
        "print(f\"Intervalo de confianza al 95%: [{limite_inferior:.3f}, {limite_superior:.3f}] minutos\")"
      ],
      "metadata": {
        "colab": {
          "base_uri": "https://localhost:8080/"
        },
        "id": "xknof4KnZNLk",
        "outputId": "dede364d-db05-437e-86f0-18cecb2aa8fb"
      },
      "execution_count": null,
      "outputs": [
        {
          "output_type": "stream",
          "name": "stdout",
          "text": [
            "Datos entregas pizzería\n",
            "Media muestral: 30.00 minutos\n",
            "Valor crítico t: 2.093\n",
            "Error estándar: 0.894 minutos\n",
            "Margen de error: 1.753 minutos\n",
            "Intervalo de confianza al 95%: [28.247, 31.753] minutos\n"
          ]
        }
      ]
    },
    {
      "cell_type": "code",
      "source": [
        "# Ejercicio #10: Peso libros de matemáticas\n",
        "\n",
        "import math\n",
        "import scipy.stats as stats\n",
        "\n",
        "# Datos del problema\n",
        "media_muestral = 1.5         # Media muestral\n",
        "s = 0.3                  # Desviación estándar muestral\n",
        "n = 8                        # Tamaño de la muestra\n",
        "grados_libertad = n - 1      # Grados de libertad\n",
        "t_alpha_2 = stats.t.ppf(0.975, grados_libertad) # Valor crítico t para 95% de confianza\n",
        "\n",
        "# Cálculo del error estándar\n",
        "error_estandar = s / math.sqrt(n)\n",
        "\n",
        "# Cálculo del margen de error\n",
        "margen_error = t_alpha_2 * error_estandar\n",
        "\n",
        "# Construcción del intervalo de confianza\n",
        "limite_inferior = media_muestral - margen_error\n",
        "limite_superior = media_muestral + margen_error\n",
        "\n",
        "# Mostrar resultados\n",
        "print(f\"Datos libros matemáticas (usando desviación estándar muestral y distribución t)\")\n",
        "print(f\"Media muestral: {media_muestral:.2f} kg\")\n",
        "print(f\"Valor crítico t: {t_alpha_2:.3f}\")\n",
        "print(f\"Error estándar: {error_estandar:.3f} kg\")\n",
        "print(f\"Margen de error: {margen_error:.3f} kg\")\n",
        "print(f\"Intervalo de confianza al 95%: [{limite_inferior:.3f}, {limite_superior:.3f}] kg\")"
      ],
      "metadata": {
        "colab": {
          "base_uri": "https://localhost:8080/"
        },
        "id": "X8riNaUjZiAU",
        "outputId": "4a3d60d4-af65-49b3-fc53-f8f0f3a8343c"
      },
      "execution_count": null,
      "outputs": [
        {
          "output_type": "stream",
          "name": "stdout",
          "text": [
            "Datos libros matemáticas (usando desviación estándar muestral y distribución t)\n",
            "Media muestral: 1.50 kg\n",
            "Valor crítico t: 2.365\n",
            "Error estándar: 0.106 kg\n",
            "Margen de error: 0.251 kg\n",
            "Intervalo de confianza al 95%: [1.249, 1.751] kg\n"
          ]
        }
      ]
    },
    {
      "cell_type": "code",
      "metadata": {
        "colab": {
          "base_uri": "https://localhost:8080/"
        },
        "id": "0b719d68",
        "outputId": "d3253378-cdfe-44b9-dbfd-d520421197e0"
      },
      "source": [
        "# Ejercicio #11: Proporción residentes vacunados\n",
        "import math\n",
        "import scipy.stats as stats\n",
        "\n",
        "# Datos del problema\n",
        "nivel_confianza = 0.95  # Nivel de confianza deseado (ej: 95%)\n",
        "margen_error = 0.03     # Margen de error aceptable (ej: 3%)\n",
        "\n",
        "# Valor crítico Z para el nivel de confianza\n",
        "alpha = 1 - nivel_confianza\n",
        "z_alpha_2 = stats.norm.ppf(1 - alpha/2)\n",
        "\n",
        "# --- Escenario 1: Con el estudio piloto ---\n",
        "p_hat_estimado_piloto = 0.72 # Estimación previa de la proporción poblacional del estudio piloto\n",
        "\n",
        "# Cálculo del tamaño de muestra requerido con estudio piloto\n",
        "n_requerido_piloto = (z_alpha_2**2 * p_hat_estimado_piloto * (1 - p_hat_estimado_piloto)) / (margen_error**2)\n",
        "\n",
        "# Redondear al siguiente número entero\n",
        "n_requerido_piloto = math.ceil(n_requerido_piloto)\n",
        "\n",
        "# Mostrar resultados para el escenario con estudio piloto\n",
        "print(\"--- Tamaño de muestra requerido (Con estudio piloto) ---\")\n",
        "print(f\"Nivel de confianza: {nivel_confianza*100:.0f}%\")\n",
        "print(f\"Margen de error: {margen_error:.3f}\")\n",
        "print(f\"Estimación de la proporción (p̂): {p_hat_estimado_piloto:.2f}\")\n",
        "print(f\"Valor crítico Z: {z_alpha_2:.3f}\")\n",
        "print(f\"Tamaño de muestra requerido: {n_requerido_piloto}\")\n",
        "print(\"-\" * 45)\n",
        "\n",
        "\n",
        "# --- Escenario 2: Sin estudio piloto ---\n",
        "p_hat_estimado_sin_piloto = 0.5 # Usar 0.5 si no se tiene estimación previa\n",
        "\n",
        "# Cálculo del tamaño de muestra requerido sin estudio piloto\n",
        "n_requerido_sin_piloto = (z_alpha_2**2 * p_hat_estimado_sin_piloto * (1 - p_hat_estimado_sin_piloto)) / (margen_error**2)\n",
        "\n",
        "# Redondear al siguiente número entero\n",
        "n_requerido_sin_piloto = math.ceil(n_requerido_sin_piloto)\n",
        "\n",
        "# Mostrar resultados para el escenario sin estudio piloto\n",
        "print(\"\\n--- Tamaño de muestra requerido (Sin estudio piloto) ---\")\n",
        "print(f\"Nivel de confianza: {nivel_confianza*100:.0f}%\")\n",
        "print(f\"Margen de error: {margen_error:.3f}\")\n",
        "print(f\"Estimación de la proporción (p̂): {p_hat_estimado_sin_piloto:.2f}\")\n",
        "print(f\"Valor crítico Z: {z_alpha_2:.3f}\")\n",
        "print(f\"Tamaño de muestra requerido: {n_requerido_sin_piloto}\")"
      ],
      "execution_count": null,
      "outputs": [
        {
          "output_type": "stream",
          "name": "stdout",
          "text": [
            "--- Tamaño de muestra requerido (Con estudio piloto) ---\n",
            "Nivel de confianza: 95%\n",
            "Margen de error: 0.030\n",
            "Estimación de la proporción (p̂): 0.72\n",
            "Valor crítico Z: 1.960\n",
            "Tamaño de muestra requerido: 861\n",
            "---------------------------------------------\n",
            "\n",
            "--- Tamaño de muestra requerido (Sin estudio piloto) ---\n",
            "Nivel de confianza: 95%\n",
            "Margen de error: 0.030\n",
            "Estimación de la proporción (p̂): 0.50\n",
            "Valor crítico Z: 1.960\n",
            "Tamaño de muestra requerido: 1068\n"
          ]
        }
      ]
    },
    {
      "cell_type": "code",
      "source": [
        "# Ejercicio #12: Devoluciones de un producto\n",
        "import math\n",
        "import scipy.stats as stats\n",
        "\n",
        "# Datos para calcular el tamaño de muestra (ejemplo)\n",
        "nivel_confianza = 0.90  # Nivel de confianza deseado\n",
        "margen_error = 0.04     # Margen de error aceptable\n",
        "\n",
        "# Estimación previa de la proporción poblacional (usar 0.5 si no se tiene una estimación)\n",
        "# Reemplaza 0.5 con una estimación (p_hat) si tienes datos de un estudio piloto, etc.\n",
        "p_hat_estimado = 0.07\n",
        "\n",
        "# Valor crítico Z para el nivel de confianza\n",
        "alpha = 1 - nivel_confianza\n",
        "z_alpha_2 = stats.norm.ppf(1 - alpha/2)\n",
        "\n",
        "# Cálculo del tamaño de muestra requerido\n",
        "n_requerido = (z_alpha_2**2 * p_hat_estimado * (1 - p_hat_estimado)) / (margen_error**2)\n",
        "\n",
        "# Redondear al siguiente número entero ya que el tamaño de muestra debe ser un número entero\n",
        "n_requerido = math.ceil(n_requerido)\n",
        "\n",
        "# Mostrar resultados\n",
        "print(f\"Cálculo del tamaño de muestra requerido para una proporción\")\n",
        "print(f\"\\nNivel de confianza: {nivel_confianza*100:.0f}%\")\n",
        "print(f\"Margen de error: {margen_error:.3f}\")\n",
        "print(f\"Estimación de la proporción (p̂): {p_hat_estimado:.2f}\")\n",
        "print(f\"Valor crítico Z: {z_alpha_2:.3f}\")\n",
        "print(f\"Tamaño de muestra requerido: {n_requerido}\")"
      ],
      "metadata": {
        "colab": {
          "base_uri": "https://localhost:8080/"
        },
        "id": "c9XU8U0wpy3r",
        "outputId": "6d8f0a31-c602-4f9f-e14b-165453746cfd"
      },
      "execution_count": null,
      "outputs": [
        {
          "output_type": "stream",
          "name": "stdout",
          "text": [
            "Cálculo del tamaño de muestra requerido para una proporción\n",
            "\n",
            "Nivel de confianza: 90%\n",
            "Margen de error: 0.040\n",
            "Estimación de la proporción (p̂): 0.07\n",
            "Valor crítico Z: 1.645\n",
            "Tamaño de muestra requerido: 111\n"
          ]
        }
      ]
    },
    {
      "cell_type": "code",
      "source": [
        "# Ejercicio #13: Proporción votantes\n",
        "import math\n",
        "import scipy.stats as stats\n",
        "\n",
        "# Datos para calcular el tamaño de muestra (ejemplo)\n",
        "nivel_confianza = 0.99  # Nivel de confianza deseado\n",
        "margen_error = 0.02     # Margen de error aceptable\n",
        "\n",
        "# Estimación previa de la proporción poblacional (usar 0.5 si no se tiene una estimación)\n",
        "# Reemplaza 0.5 con una estimación (p_hat) si tienes datos de un estudio piloto, etc.\n",
        "p_hat_estimado = 0.42\n",
        "\n",
        "# Valor crítico Z para el nivel de confianza\n",
        "alpha = 1 - nivel_confianza\n",
        "z_alpha_2 = stats.norm.ppf(1 - alpha/2)\n",
        "\n",
        "# Cálculo del tamaño de muestra requerido\n",
        "n_requerido = (z_alpha_2**2 * p_hat_estimado * (1 - p_hat_estimado)) / (margen_error**2)\n",
        "\n",
        "# Redondear al siguiente número entero ya que el tamaño de muestra debe ser un número entero\n",
        "n_requerido = math.ceil(n_requerido)\n",
        "\n",
        "# Mostrar resultados\n",
        "print(f\"Cálculo del tamaño de muestra requerido para una proporción\")\n",
        "print(\"\\n--- Tamaño de muestra requerido (Con estudio piloto) ---\")\n",
        "print(f\"Nivel de confianza: {nivel_confianza*100:.0f}%\")\n",
        "print(f\"Margen de error: {margen_error:.3f}\")\n",
        "print(f\"Estimación de la proporción (p̂): {p_hat_estimado:.2f}\")\n",
        "print(f\"Valor crítico Z: {z_alpha_2:.3f}\")\n",
        "print(f\"Tamaño de muestra requerido: {n_requerido}\")\n",
        "print(\"-\" * 45)\n",
        "\n",
        "# --- Escenario 2: Sin estudio piloto ---\n",
        "p_hat_estimado_sin_piloto = 0.5 # Usar 0.5 si no se tiene estimación previa\n",
        "\n",
        "# Cálculo del tamaño de muestra requerido sin estudio piloto\n",
        "n_requerido_sin_piloto = (z_alpha_2**2 * p_hat_estimado_sin_piloto * (1 - p_hat_estimado_sin_piloto)) / (margen_error**2)\n",
        "\n",
        "# Redondear al siguiente número entero\n",
        "n_requerido_sin_piloto = math.ceil(n_requerido_sin_piloto)\n",
        "\n",
        "# Mostrar resultados para el escenario sin estudio piloto\n",
        "print(\"\\n--- Tamaño de muestra requerido (Sin estudio piloto) ---\")\n",
        "print(f\"Nivel de confianza: {nivel_confianza*100:.0f}%\")\n",
        "print(f\"Margen de error: {margen_error:.3f}\")\n",
        "print(f\"Estimación de la proporción (p̂): {p_hat_estimado_sin_piloto:.2f}\")\n",
        "print(f\"Valor crítico Z: {z_alpha_2:.3f}\")\n",
        "print(f\"Tamaño de muestra requerido: {n_requerido_sin_piloto}\")\n",
        "print(\"-\" * 45)\n",
        "\n",
        "print(\"\\nJustificación p=0,5: \\nLa expresión p̂ * (1 - p̂) alcanza su valor máximo cuando p̂ = 0.5.\")\n",
        "print(\"Esto significa que al usar p̂ = 0.5 en el cálculo, obtenemos el tamaño de \\nmuestra más grande posible para un nivel de confianza y margen de error dados.\")\n",
        "print(\"Usar el tamaño de muestra más grande asegura que se cumpla el margen de error \\ndeseado, independientemente de cuál sea la verdadera proporción poblacional.\")"
      ],
      "metadata": {
        "colab": {
          "base_uri": "https://localhost:8080/"
        },
        "id": "S7pIi2Ifr4kj",
        "outputId": "c2e4eec4-e576-46f4-e175-c6d216f19eb9"
      },
      "execution_count": null,
      "outputs": [
        {
          "output_type": "stream",
          "name": "stdout",
          "text": [
            "Cálculo del tamaño de muestra requerido para una proporción\n",
            "\n",
            "--- Tamaño de muestra requerido (Con estudio piloto) ---\n",
            "Nivel de confianza: 99%\n",
            "Margen de error: 0.020\n",
            "Estimación de la proporción (p̂): 0.42\n",
            "Valor crítico Z: 2.576\n",
            "Tamaño de muestra requerido: 4041\n",
            "---------------------------------------------\n",
            "\n",
            "--- Tamaño de muestra requerido (Sin estudio piloto) ---\n",
            "Nivel de confianza: 99%\n",
            "Margen de error: 0.020\n",
            "Estimación de la proporción (p̂): 0.50\n",
            "Valor crítico Z: 2.576\n",
            "Tamaño de muestra requerido: 4147\n",
            "---------------------------------------------\n",
            "\n",
            "Justificación p=0,5: \n",
            "La expresión p̂ * (1 - p̂) alcanza su valor máximo cuando p̂ = 0.5.\n",
            "Esto significa que al usar p̂ = 0.5 en el cálculo, obtenemos el tamaño de \n",
            "muestra más grande posible para un nivel de confianza y margen de error dados.\n",
            "Usar el tamaño de muestra más grande asegura que se cumpla el margen de error \n",
            "deseado, independientemente de cuál sea la verdadera proporción poblacional.\n"
          ]
        }
      ]
    },
    {
      "cell_type": "code",
      "source": [
        "# Ejercicio #15: Proporción pacientes hospital\n",
        "import math\n",
        "import scipy.stats as stats\n",
        "\n",
        "# Datos para calcular el tamaño de muestra (ejemplo)\n",
        "nivel_confianza = 0.95  # Nivel de confianza deseado\n",
        "margen_error = 0.04     # Margen de error aceptable\n",
        "\n",
        "# Estimación previa de la proporción poblacional (usar 0.5 si no se tiene una estimación)\n",
        "# Reemplaza 0.5 con una estimación (p_hat) si tienes datos de un estudio piloto, etc.\n",
        "p_hat_estimado = 0.69\n",
        "\n",
        "# Valor crítico Z para el nivel de confianza\n",
        "alpha = 1 - nivel_confianza\n",
        "z_alpha_2 = stats.norm.ppf(1 - alpha/2)\n",
        "\n",
        "# Cálculo del tamaño de muestra requerido\n",
        "n_requerido = (z_alpha_2**2 * p_hat_estimado * (1 - p_hat_estimado)) / (margen_error**2)\n",
        "\n",
        "# Redondear al siguiente número entero ya que el tamaño de muestra debe ser un número entero\n",
        "n_requerido = math.ceil(n_requerido)\n",
        "\n",
        "# Mostrar resultados\n",
        "print(f\"Cálculo del tamaño de muestra requerido para una proporción\")\n",
        "print(\"\\n--- Tamaño de muestra requerido (Con estudio piloto) ---\")\n",
        "print(f\"Nivel de confianza: {nivel_confianza*100:.0f}%\")\n",
        "print(f\"Margen de error: {margen_error:.3f}\")\n",
        "print(f\"Estimación de la proporción (p̂): {p_hat_estimado:.2f}\")\n",
        "print(f\"Valor crítico Z: {z_alpha_2:.3f}\")\n",
        "print(f\"Tamaño de muestra requerido: {n_requerido}\")\n",
        "print(\"-\" * 45)\n",
        "\n",
        "# --- Escenario 2: Sin estudio piloto ---\n",
        "p_hat_estimado_sin_piloto = 0.5 # Usar 0.5 si no se tiene estimación previa\n",
        "\n",
        "# Cálculo del tamaño de muestra requerido sin estudio piloto\n",
        "n_requerido_sin_piloto = (z_alpha_2**2 * p_hat_estimado_sin_piloto * (1 - p_hat_estimado_sin_piloto)) / (margen_error**2)\n",
        "\n",
        "# Redondear al siguiente número entero\n",
        "n_requerido_sin_piloto = math.ceil(n_requerido_sin_piloto)\n",
        "\n",
        "# Mostrar resultados para el escenario sin estudio piloto\n",
        "print(\"\\n--- Tamaño de muestra requerido (Sin estudio piloto) ---\")\n",
        "print(f\"Nivel de confianza: {nivel_confianza*100:.0f}%\")\n",
        "print(f\"Margen de error: {margen_error:.3f}\")\n",
        "print(f\"Estimación de la proporción (p̂): {p_hat_estimado_sin_piloto:.2f}\")\n",
        "print(f\"Valor crítico Z: {z_alpha_2:.3f}\")\n",
        "print(f\"Tamaño de muestra requerido: {n_requerido_sin_piloto}\")"
      ],
      "metadata": {
        "colab": {
          "base_uri": "https://localhost:8080/"
        },
        "id": "w0Yx2aqQu3wz",
        "outputId": "778ed74b-2d6a-4df4-a139-aa04a0024721"
      },
      "execution_count": null,
      "outputs": [
        {
          "output_type": "stream",
          "name": "stdout",
          "text": [
            "Cálculo del tamaño de muestra requerido para una proporción\n",
            "\n",
            "--- Tamaño de muestra requerido (Con estudio piloto) ---\n",
            "Nivel de confianza: 95%\n",
            "Margen de error: 0.040\n",
            "Estimación de la proporción (p̂): 0.69\n",
            "Valor crítico Z: 1.960\n",
            "Tamaño de muestra requerido: 514\n",
            "---------------------------------------------\n",
            "\n",
            "--- Tamaño de muestra requerido (Sin estudio piloto) ---\n",
            "Nivel de confianza: 95%\n",
            "Margen de error: 0.040\n",
            "Estimación de la proporción (p̂): 0.50\n",
            "Valor crítico Z: 1.960\n",
            "Tamaño de muestra requerido: 601\n"
          ]
        }
      ]
    },
    {
      "cell_type": "code",
      "source": [
        "# Ejercicio #16: Tiempo espera urgencias\n",
        "import math\n",
        "import scipy.stats as stats\n",
        "\n",
        "# Datos del problema\n",
        "sigma = 8           # Desviación estándar poblacional\n",
        "margen_error = 2    # Margen de error aceptable\n",
        "nivel_confianza = 0.95 # Nivel de confianza deseado (95%)\n",
        "\n",
        "# Valor crítico Z para el nivel de confianza\n",
        "alpha = 1 - nivel_confianza\n",
        "z_alpha_2 = stats.norm.ppf(1 - alpha/2)\n",
        "\n",
        "# Cálculo del tamaño de muestra requerido para la media\n",
        "# Fórmula: n = (Z^2 * σ^2) / E^2\n",
        "n_requerido = (z_alpha_2**2 * sigma**2) / (margen_error**2)\n",
        "\n",
        "# Redondear al siguiente número entero, ya que el tamaño de muestra debe ser un número entero\n",
        "n_requerido = math.ceil(n_requerido)\n",
        "\n",
        "# Mostrar resultados\n",
        "print(f\"--- Cálculo del tamaño de muestra requerido para la media ---\")\n",
        "print(f\"Desviación estándar poblacional (σ): {sigma:.2f} minutos\")\n",
        "print(f\"Margen de error (E): {margen_error:.2f} minutos\")\n",
        "print(f\"Nivel de confianza: {nivel_confianza*100:.0f}%\")\n",
        "print(f\"Valor crítico Z: {z_alpha_2:.3f}\")\n",
        "print(f\"Tamaño de muestra requerido (n): {n_requerido}\")"
      ],
      "metadata": {
        "colab": {
          "base_uri": "https://localhost:8080/"
        },
        "id": "MIuTnm4XyKej",
        "outputId": "f557c470-5196-4a01-cded-b3034df3a4c3"
      },
      "execution_count": null,
      "outputs": [
        {
          "output_type": "stream",
          "name": "stdout",
          "text": [
            "--- Cálculo del tamaño de muestra requerido para la media ---\n",
            "Desviación estándar poblacional (σ): 8.00 minutos\n",
            "Margen de error (E): 2.00 minutos\n",
            "Nivel de confianza: 95%\n",
            "Valor crítico Z: 1.960\n",
            "Tamaño de muestra requerido (n): 62\n"
          ]
        }
      ]
    },
    {
      "cell_type": "code",
      "source": [
        "# Ejercicio #17: Consumo mensual de electricidad\n",
        "import math\n",
        "import scipy.stats as stats\n",
        "\n",
        "# Datos del problema\n",
        "sigma = 50          # Desviación estándar poblacional\n",
        "margen_error = 10    # Margen de error aceptable\n",
        "nivel_confianza = 0.90 # Nivel de confianza deseado (95%)\n",
        "\n",
        "# Valor crítico Z para el nivel de confianza\n",
        "alpha = 1 - nivel_confianza\n",
        "z_alpha_2 = stats.norm.ppf(1 - alpha/2)\n",
        "\n",
        "# Cálculo del tamaño de muestra requerido para la media\n",
        "# Fórmula: n = (Z^2 * σ^2) / E^2\n",
        "n_requerido = (z_alpha_2**2 * sigma**2) / (margen_error**2)\n",
        "\n",
        "# Redondear al siguiente número entero, ya que el tamaño de muestra debe ser un número entero\n",
        "n_requerido = math.ceil(n_requerido)\n",
        "\n",
        "# Mostrar resultados\n",
        "print(f\"--- Cálculo del tamaño de muestra requerido para la media ---\")\n",
        "print(f\"Desviación estándar poblacional (σ): {sigma:.2f} kWh.\")\n",
        "print(f\"Margen de error (E): {margen_error:.2f} kWh.\")\n",
        "print(f\"Nivel de confianza: {nivel_confianza*100:.0f}%\")\n",
        "print(f\"Valor crítico Z: {z_alpha_2:.3f}\")\n",
        "print(f\"Tamaño de muestra requerido (n): {n_requerido}\")"
      ],
      "metadata": {
        "colab": {
          "base_uri": "https://localhost:8080/"
        },
        "id": "nfMT30V40Gr_",
        "outputId": "d83492d4-e389-48f5-cfaf-ce19a72f3d5a"
      },
      "execution_count": null,
      "outputs": [
        {
          "output_type": "stream",
          "name": "stdout",
          "text": [
            "--- Cálculo del tamaño de muestra requerido para la media ---\n",
            "Desviación estándar poblacional (σ): 50.00 kWh.\n",
            "Margen de error (E): 10.00 kWh.\n",
            "Nivel de confianza: 90%\n",
            "Valor crítico Z: 1.645\n",
            "Tamaño de muestra requerido (n): 68\n"
          ]
        }
      ]
    },
    {
      "cell_type": "code",
      "source": [
        "# Ejercicio #18: Peso promedio paquetes\n",
        "import math\n",
        "import scipy.stats as stats\n",
        "\n",
        "# Datos del problema\n",
        "sigma = 1.2          # Desviación estándar poblacional\n",
        "margen_error = 0.5    # Margen de error aceptable\n",
        "nivel_confianza = 0.99 # Nivel de confianza deseado (95%)\n",
        "\n",
        "# Valor crítico Z para el nivel de confianza\n",
        "alpha = 1 - nivel_confianza\n",
        "z_alpha_2 = stats.norm.ppf(1 - alpha/2)\n",
        "\n",
        "# Cálculo del tamaño de muestra requerido para la media\n",
        "# Fórmula: n = (Z^2 * σ^2) / E^2\n",
        "n_requerido = (z_alpha_2**2 * sigma**2) / (margen_error**2)\n",
        "\n",
        "# Redondear al siguiente número entero, ya que el tamaño de muestra debe ser un número entero\n",
        "n_requerido = math.ceil(n_requerido)\n",
        "\n",
        "# Mostrar resultados\n",
        "print(f\"--- Cálculo del tamaño de muestra requerido para la media ---\")\n",
        "print(f\"Desviación estándar poblacional (σ): {sigma:.2f} kg.\")\n",
        "print(f\"Margen de error (E): {margen_error:.2f} kg.\")\n",
        "print(f\"Nivel de confianza: {nivel_confianza*100:.0f}%\")\n",
        "print(f\"Valor crítico Z: {z_alpha_2:.3f}\")\n",
        "print(f\"Tamaño de muestra requerido (n): {n_requerido}\")"
      ],
      "metadata": {
        "colab": {
          "base_uri": "https://localhost:8080/"
        },
        "id": "u2z6ggZa0dh3",
        "outputId": "2955f9b3-0574-42cc-feb1-27715fd2cb36"
      },
      "execution_count": null,
      "outputs": [
        {
          "output_type": "stream",
          "name": "stdout",
          "text": [
            "--- Cálculo del tamaño de muestra requerido para la media ---\n",
            "Desviación estándar poblacional (σ): 1.20 kg.\n",
            "Margen de error (E): 0.50 kg.\n",
            "Nivel de confianza: 99%\n",
            "Valor crítico Z: 2.576\n",
            "Tamaño de muestra requerido (n): 39\n"
          ]
        }
      ]
    },
    {
      "cell_type": "code",
      "source": [
        "# Ejercicio #19: Duración reuniones en empresa\n",
        "import math\n",
        "import scipy.stats as stats\n",
        "\n",
        "# Datos del problema\n",
        "sigma = 5          # Desviación estándar poblacional\n",
        "margen_error = 1.5    # Margen de error aceptable\n",
        "nivel_confianza = 0.95 # Nivel de confianza deseado (95%)\n",
        "\n",
        "# Valor crítico Z para el nivel de confianza\n",
        "alpha = 1 - nivel_confianza\n",
        "z_alpha_2 = stats.norm.ppf(1 - alpha/2)\n",
        "\n",
        "# Cálculo del tamaño de muestra requerido para la media\n",
        "# Fórmula: n = (Z^2 * σ^2) / E^2\n",
        "n_requerido = (z_alpha_2**2 * sigma**2) / (margen_error**2)\n",
        "\n",
        "# Redondear al siguiente número entero, ya que el tamaño de muestra debe ser un número entero\n",
        "n_requerido = math.ceil(n_requerido)\n",
        "\n",
        "# Mostrar resultados\n",
        "print(f\"--- Cálculo del tamaño de muestra requerido para la media ---\")\n",
        "print(f\"Desviación estándar poblacional (σ): {sigma:.2f} minutos.\")\n",
        "print(f\"Margen de error (E): {margen_error:.2f} minutos.\")\n",
        "print(f\"Nivel de confianza: {nivel_confianza*100:.0f}%\")\n",
        "print(f\"Valor crítico Z: {z_alpha_2:.3f}\")\n",
        "print(f\"Tamaño de muestra requerido (n): {n_requerido}\")"
      ],
      "metadata": {
        "colab": {
          "base_uri": "https://localhost:8080/"
        },
        "id": "L-LyefGl0vPm",
        "outputId": "37c5b043-a6f5-4d43-98c1-ab8eb69ff8b3"
      },
      "execution_count": null,
      "outputs": [
        {
          "output_type": "stream",
          "name": "stdout",
          "text": [
            "--- Cálculo del tamaño de muestra requerido para la media ---\n",
            "Desviación estándar poblacional (σ): 5.00 minutos.\n",
            "Margen de error (E): 1.50 minutos.\n",
            "Nivel de confianza: 95%\n",
            "Valor crítico Z: 1.960\n",
            "Tamaño de muestra requerido (n): 43\n"
          ]
        }
      ]
    },
    {
      "cell_type": "code",
      "source": [
        "# Ejercicio #20: Puntaje prueba estándar\n",
        "import math\n",
        "import scipy.stats as stats\n",
        "\n",
        "# Datos del problema\n",
        "sigma = 12          # Desviación estándar poblacional\n",
        "margen_error = 3    # Margen de error aceptable\n",
        "nivel_confianza = 0.90 # Nivel de confianza deseado (95%)\n",
        "\n",
        "# Valor crítico Z para el nivel de confianza\n",
        "alpha = 1 - nivel_confianza\n",
        "z_alpha_2 = stats.norm.ppf(1 - alpha/2)\n",
        "\n",
        "# Cálculo del tamaño de muestra requerido para la media\n",
        "# Fórmula: n = (Z^2 * σ^2) / E^2\n",
        "n_requerido = (z_alpha_2**2 * sigma**2) / (margen_error**2)\n",
        "\n",
        "# Redondear al siguiente número entero, ya que el tamaño de muestra debe ser un número entero\n",
        "n_requerido = math.ceil(n_requerido)\n",
        "\n",
        "# Mostrar resultados\n",
        "print(f\"--- Cálculo del tamaño de muestra requerido para la media ---\")\n",
        "print(f\"Desviación estándar poblacional (σ): {sigma:.2f} puntos.\")\n",
        "print(f\"Margen de error (E): {margen_error:.2f} puntos.\")\n",
        "print(f\"Nivel de confianza: {nivel_confianza*100:.0f}%\")\n",
        "print(f\"Valor crítico Z: {z_alpha_2:.3f}\")\n",
        "print(f\"Tamaño de muestra requerido (n): {n_requerido}\")"
      ],
      "metadata": {
        "colab": {
          "base_uri": "https://localhost:8080/"
        },
        "id": "h20-lBXk1bY5",
        "outputId": "ca2ea6b0-c881-4c2d-d158-4a4b3aadb738"
      },
      "execution_count": null,
      "outputs": [
        {
          "output_type": "stream",
          "name": "stdout",
          "text": [
            "--- Cálculo del tamaño de muestra requerido para la media ---\n",
            "Desviación estándar poblacional (σ): 12.00 puntos.\n",
            "Margen de error (E): 3.00 puntos.\n",
            "Nivel de confianza: 90%\n",
            "Valor crítico Z: 1.645\n",
            "Tamaño de muestra requerido (n): 44\n"
          ]
        }
      ]
    },
    {
      "cell_type": "code",
      "source": [
        "# Ejercicio #21: Paquetes de cereal\n",
        "import math\n",
        "import scipy.stats as stats\n",
        "\n",
        "# Datos del problema\n",
        "mu_0 = 500          # Media poblacional bajo la hipótesis nula (afirmación de la empresa)\n",
        "media_muestral = 495 # Media de la muestra\n",
        "sigma = 15           # Desviación estándar poblacional\n",
        "n = 40               # Tamaño de la muestra\n",
        "alpha = 0.05         # Nivel de significancia\n",
        "\n",
        "# 1. Plantear las hipótesis nula y alternativa\n",
        "print(\"1. Hipótesis:\")\n",
        "print(f\"   Hipótesis Nula (H0): μ = {mu_0} g (El peso promedio de los paquetes es 500g)\")\n",
        "print(f\"   Hipótesis Alternativa (H1): μ < {mu_0} g (El peso promedio de los paquetes es menor a 500g - prueba de cola izquierda)\")\n",
        "print(\"-\" * 30)\n",
        "\n",
        "# 2. Calcular el estadístico Z\n",
        "# Fórmula del estadístico Z para la media (sigma conocida): Z = (media_muestral - mu_0) / (sigma / sqrt(n))\n",
        "error_estandar = sigma / math.sqrt(n)\n",
        "z_estadistico = (media_muestral - mu_0) / error_estandar\n",
        "\n",
        "print(\"2. Cálculo del Estadístico Z:\")\n",
        "print(f\"   Error estándar: {error_estandar:.3f}\")\n",
        "print(f\"   Estadístico Z calculado: {z_estadistico:.3f}\")\n",
        "print(\"-\" * 30)\n",
        "\n",
        "# 3. Determinar la región crítica y la región de rechazo\n",
        "# Para una prueba de cola izquierda con α = 0.05, el valor crítico Z es el valor\n",
        "# tal que el área a su izquierda es α.\n",
        "z_critico = stats.norm.ppf(alpha)\n",
        "\n",
        "print(\"3. Región Crítica y Región de Rechazo:\")\n",
        "print(f\"   Nivel de significancia (α): {alpha}\")\n",
        "print(f\"   Valor crítico Z (para α={alpha} en cola izquierda): {z_critico:.3f}\")\n",
        "print(f\"   Región de Rechazo: Rechazar H0 si Z_estadístico < {z_critico:.3f}\")\n",
        "print(\"-\" * 30)\n",
        "\n",
        "# 4. Concluir si se rechaza H0\n",
        "print(\"4. Conclusión:\")\n",
        "if z_estadistico < z_critico:\n",
        "    print(f\"   El estadístico Z calculado ({z_estadistico:.3f}) es menor que el valor crítico Z ({z_critico:.3f}).\")\n",
        "    print(\"   Por lo tanto, se rechaza la hipótesis nula (H0).\")\n",
        "    print(f\"   Hay suficiente evidencia estadística con un nivel de significancia de {alpha} para concluir que el peso promedio de los paquetes es menor a {mu_0} g.\")\n",
        "else:\n",
        "    print(f\"   El estadístico Z calculado ({z_estadistico:.3f}) no es menor que el valor crítico Z ({z_critico:.3f}).\")\n",
        "    print(\"   Por lo tanto, no se rechaza la hipótesis nula (H0).\")\n",
        "    print(f\"   No hay suficiente evidencia estadística con un nivel de significancia de {alpha} para concluir que el peso promedio de los paquetes es diferente a {mu_0} g.\")"
      ],
      "metadata": {
        "colab": {
          "base_uri": "https://localhost:8080/"
        },
        "id": "YcCKWfNG1u-W",
        "outputId": "4a5eef88-5ada-4b48-aa54-2bf180885902"
      },
      "execution_count": null,
      "outputs": [
        {
          "output_type": "stream",
          "name": "stdout",
          "text": [
            "1. Hipótesis:\n",
            "   Hipótesis Nula (H0): μ = 500 g (El peso promedio de los paquetes es 500g)\n",
            "   Hipótesis Alternativa (H1): μ < 500 g (El peso promedio de los paquetes es menor a 500g - prueba de cola izquierda)\n",
            "------------------------------\n",
            "2. Cálculo del Estadístico Z:\n",
            "   Error estándar: 2.372\n",
            "   Estadístico Z calculado: -2.108\n",
            "------------------------------\n",
            "3. Región Crítica y Región de Rechazo:\n",
            "   Nivel de significancia (α): 0.05\n",
            "   Valor crítico Z (para α=0.05 en cola izquierda): -1.645\n",
            "   Región de Rechazo: Rechazar H0 si Z_estadístico < -1.645\n",
            "------------------------------\n",
            "4. Conclusión:\n",
            "   El estadístico Z calculado (-2.108) es menor que el valor crítico Z (-1.645).\n",
            "   Por lo tanto, se rechaza la hipótesis nula (H0).\n",
            "   Hay suficiente evidencia estadística con un nivel de significancia de 0.05 para concluir que el peso promedio de los paquetes es menor a 500 g.\n"
          ]
        }
      ]
    },
    {
      "cell_type": "code",
      "source": [
        "# Ejercicio #22: Fabricante de baterías\n",
        "import math\n",
        "import scipy.stats as stats\n",
        "\n",
        "# Datos del problema\n",
        "mu_0 = 1200          # Media poblacional bajo la hipótesis nula (afirmación del fabricante)\n",
        "media_muestral = 1180 # Media de la muestra\n",
        "sigma = 100           # Desviación estándar poblacional\n",
        "n = 50               # Tamaño de la muestra\n",
        "alpha = 0.01         # Nivel de significancia\n",
        "\n",
        "# 1. Plantear las hipótesis nula y alternativa\n",
        "print(\"1. Hipótesis:\")\n",
        "print(f\"   Hipótesis Nula (H0): μ = {mu_0} horas (La vida útil promedio de las baterías es 1200 horas)\")\n",
        "print(f\"   Hipótesis Alternativa (H1): μ < {mu_0} horas (La vida útil promedio de las baterías es menor a 1200 horas - prueba de cola izquierda)\")\n",
        "print(\"-\" * 30)\n",
        "\n",
        "# 2. Calcular el estadístico Z\n",
        "# Fórmula del estadístico Z para la media (sigma conocida): Z = (media_muestral - mu_0) / (sigma / sqrt(n))\n",
        "error_estandar = sigma / math.sqrt(n)\n",
        "z_estadistico = (media_muestral - mu_0) / error_estandar\n",
        "\n",
        "print(\"2. Cálculo del Estadístico Z:\")\n",
        "print(f\"   Error estándar: {error_estandar:.3f}\")\n",
        "print(f\"   Estadístico Z calculado: {z_estadistico:.3f}\")\n",
        "print(\"-\" * 30)\n",
        "\n",
        "# 3. Determinar la región crítica y la región de rechazo\n",
        "# Para una prueba de cola izquierda con α = 0.01, el valor crítico Z es el valor\n",
        "# tal que el área a su izquierda es α.\n",
        "z_critico = stats.norm.ppf(alpha)\n",
        "\n",
        "print(\"3. Región Crítica y Región de Rechazo:\")\n",
        "print(f\"   Nivel de significancia (α): {alpha}\")\n",
        "print(f\"   Valor crítico Z (para α={alpha} en cola izquierda): {z_critico:.3f}\")\n",
        "print(f\"   Región de Rechazo: Rechazar H0 si Z_estadístico < {z_critico:.3f}\")\n",
        "print(\"-\" * 30)\n",
        "\n",
        "# 4. Concluir si se rechaza H0\n",
        "print(\"4. Conclusión:\")\n",
        "if z_estadistico < z_critico:\n",
        "    print(f\"   El estadístico Z calculado ({z_estadistico:.3f}) es menor que el valor crítico Z ({z_critico:.3f}).\")\n",
        "    print(\"   Por lo tanto, se rechaza la hipótesis nula (H0).\")\n",
        "    print(f\"   Hay suficiente evidencia estadística con un nivel de significancia de {alpha} para concluir que la vida útil promedio de las baterías es menor a {mu_0} horas.\")\n",
        "else:\n",
        "    print(f\"   El estadístico Z calculado ({z_estadistico:.3f}) no es menor que el valor crítico Z ({z_critico:.3f}).\")\n",
        "    print(\"   Por lo tanto, no se rechaza la hipótesis nula (H0).\")\n",
        "    print(f\"   No hay suficiente evidencia estadística con un nivel de significancia de {alpha} para concluir que la vida útil promedio de las baterías es diferente a {mu_0} horas.\")"
      ],
      "metadata": {
        "colab": {
          "base_uri": "https://localhost:8080/"
        },
        "id": "MHfdxADpDqWT",
        "outputId": "5244e6cb-35c2-4686-abbe-c1de163bc099"
      },
      "execution_count": 13,
      "outputs": [
        {
          "output_type": "stream",
          "name": "stdout",
          "text": [
            "1. Hipótesis:\n",
            "   Hipótesis Nula (H0): μ = 1200 horas (La vida útil promedio de las baterías es 1200 horas)\n",
            "   Hipótesis Alternativa (H1): μ < 1200 horas (La vida útil promedio de las baterías es menor a 1200 horas - prueba de cola izquierda)\n",
            "------------------------------\n",
            "2. Cálculo del Estadístico Z:\n",
            "   Error estándar: 14.142\n",
            "   Estadístico Z calculado: -1.414\n",
            "------------------------------\n",
            "3. Región Crítica y Región de Rechazo:\n",
            "   Nivel de significancia (α): 0.01\n",
            "   Valor crítico Z (para α=0.01 en cola izquierda): -2.326\n",
            "   Región de Rechazo: Rechazar H0 si Z_estadístico < -2.326\n",
            "------------------------------\n",
            "4. Conclusión:\n",
            "   El estadístico Z calculado (-1.414) no es menor que el valor crítico Z (-2.326).\n",
            "   Por lo tanto, no se rechaza la hipótesis nula (H0).\n",
            "   No hay suficiente evidencia estadística con un nivel de significancia de 0.01 para concluir que la vida útil promedio de las baterías es diferente a 1200 horas.\n"
          ]
        }
      ]
    },
    {
      "cell_type": "code",
      "source": [
        "# Ejercicio #23: Examen nacional\n",
        "import math\n",
        "import scipy.stats as stats\n",
        "\n",
        "# Datos del problema\n",
        "mu_0 = 75          # Media poblacional bajo la hipótesis nula (promedio nacional)\n",
        "media_muestral = 78 # Media de la muestra del profesor\n",
        "sigma = 12           # Desviación estándar poblacional\n",
        "n = 36               # Tamaño de la muestra\n",
        "alpha = 0.05         # Nivel de significancia\n",
        "\n",
        "# 1. Plantear las hipótesis nula y alternativa\n",
        "print(\"1. Hipótesis:\")\n",
        "print(f\"   Hipótesis Nula (H0): μ = {mu_0} puntos (El promedio de la clase es igual al promedio nacional)\")\n",
        "print(f\"   Hipótesis Alternativa (H1): μ ≠ {mu_0} puntos (El promedio de la clase es diferente al promedio nacional - prueba de dos colas)\")\n",
        "print(\"-\" * 30)\n",
        "\n",
        "# 2. Calcular el estadístico Z\n",
        "# Fórmula del estadístico Z para la media (sigma conocida): Z = (media_muestral - mu_0) / (sigma / sqrt(n))\n",
        "error_estandar = sigma / math.sqrt(n)\n",
        "z_estadistico = (media_muestral - mu_0) / error_estandar\n",
        "\n",
        "print(\"2. Cálculo del Estadístico Z:\")\n",
        "print(f\"   Error estándar: {error_estandar:.3f}\")\n",
        "print(f\"   Estadístico Z calculado: {z_estadistico:.3f}\")\n",
        "print(\"-\" * 30)\n",
        "\n",
        "# 3. Determinar la región crítica y la región de rechazo\n",
        "# Para una prueba de dos colas con α = 0.05, dividimos α en dos (α/2 = 0.025)\n",
        "# y encontramos los valores críticos Z que dejan α/2 en cada cola.\n",
        "# stats.norm.ppf(alpha/2) nos da el valor crítico inferior (negativo).\n",
        "# stats.norm.ppf(1 - alpha/2) nos da el valor crítico superior (positivo).\n",
        "z_critico_inferior = stats.norm.ppf(alpha/2)\n",
        "z_critico_superior = stats.norm.ppf(1 - alpha/2)\n",
        "\n",
        "print(\"3. Región Crítica y Región de Rechazo:\")\n",
        "print(f\"   Nivel de significancia (α): {alpha}\")\n",
        "print(f\"   α/2: {alpha/2}\")\n",
        "print(f\"   Valores críticos Z (para α={alpha} en dos colas): {z_critico_inferior:.3f} y {z_critico_superior:.3f}\")\n",
        "print(f\"   Región de Rechazo: Rechazar H0 si Z_estadístico < {z_critico_inferior:.3f} o Z_estadístico > {z_critico_superior:.3f}\")\n",
        "print(\"-\" * 30)\n",
        "\n",
        "# 4. Concluir si se rechaza H0\n",
        "print(\"4. Conclusión:\")\n",
        "if z_estadistico < z_critico_inferior or z_estadistico > z_critico_superior:\n",
        "    print(f\"   El estadístico Z calculado ({z_estadistico:.3f}) cae en la región de rechazo.\")\n",
        "    print(\"   Por lo tanto, se rechaza la hipótesis nula (H0).\")\n",
        "    print(f\"   Hay suficiente evidencia estadística con un nivel de significancia de {alpha} para concluir que el promedio de la clase es diferente a {mu_0} puntos.\")\n",
        "else:\n",
        "    print(f\"   El estadístico Z calculado ({z_estadistico:.3f}) no cae en la región de rechazo.\")\n",
        "    print(\"   Por lo tanto, no se rechaza la hipótesis nula (H0).\")\n",
        "    print(f\"   No hay suficiente evidencia estadística con un nivel de significancia de {alpha} para concluir que el promedio de la clase es diferente a {mu_0} puntos.\")"
      ],
      "metadata": {
        "colab": {
          "base_uri": "https://localhost:8080/"
        },
        "id": "E5uqbs0GEUq4",
        "outputId": "45c2ab07-591c-415a-cf46-b5d89bf1d65e"
      },
      "execution_count": null,
      "outputs": [
        {
          "output_type": "stream",
          "name": "stdout",
          "text": [
            "1. Hipótesis:\n",
            "   Hipótesis Nula (H0): μ = 75 puntos (El promedio de la clase es igual al promedio nacional)\n",
            "   Hipótesis Alternativa (H1): μ ≠ 75 puntos (El promedio de la clase es diferente al promedio nacional - prueba de dos colas)\n",
            "------------------------------\n",
            "2. Cálculo del Estadístico Z:\n",
            "   Error estándar: 2.000\n",
            "   Estadístico Z calculado: 1.500\n",
            "------------------------------\n",
            "3. Región Crítica y Región de Rechazo:\n",
            "   Nivel de significancia (α): 0.05\n",
            "   α/2: 0.025\n",
            "   Valores críticos Z (para α=0.05 en dos colas): -1.960 y 1.960\n",
            "   Región de Rechazo: Rechazar H0 si Z_estadístico < -1.960 o Z_estadístico > 1.960\n",
            "------------------------------\n",
            "4. Conclusión:\n",
            "   El estadístico Z calculado (1.500) no cae en la región de rechazo.\n",
            "   Por lo tanto, no se rechaza la hipótesis nula (H0).\n",
            "   No hay suficiente evidencia estadística con un nivel de significancia de 0.05 para concluir que el promedio de la clase es diferente a 75 puntos.\n"
          ]
        }
      ]
    },
    {
      "cell_type": "code",
      "source": [
        "# Ejercicio 24: Medicamento para la presión arterial\n",
        "import math\n",
        "import scipy.stats as stats\n",
        "\n",
        "# Datos del problema\n",
        "mu_0 = 10          # Media poblacional bajo la hipótesis nula (reducción afirmada por el laboratorio)\n",
        "media_muestral = 8  # Media de la reducción en la muestra\n",
        "sigma = 3           # Desviación estándar poblacional\n",
        "n = 25              # Tamaño de la muestra\n",
        "alpha = 0.05        # Nivel de significancia\n",
        "\n",
        "# 1. Plantear las hipótesis nula y alternativa\n",
        "print(\"1. Hipótesis:\")\n",
        "print(f\"   Hipótesis Nula (H0): μ = {mu_0} mmHg (La reducción promedio de la presión arterial es 10 mmHg)\")\n",
        "print(f\"   Hipótesis Alternativa (H1): μ < {mu_0} mmHg (La reducción promedio de la presión arterial es menor a 10 mmHg - prueba de cola izquierda)\")\n",
        "print(\"-\" * 30)\n",
        "\n",
        "# 2. Calcular el estadístico Z\n",
        "# Fórmula del estadístico Z para la media (sigma conocida): Z = (media_muestral - mu_0) / (sigma / sqrt(n))\n",
        "error_estandar = sigma / math.sqrt(n)\n",
        "z_estadistico = (media_muestral - mu_0) / error_estandar\n",
        "\n",
        "print(\"2. Cálculo del Estadístico Z:\")\n",
        "print(f\"   Error estándar: {error_estandar:.3f}\")\n",
        "print(f\"   Estadístico Z calculado: {z_estadistico:.3f}\")\n",
        "print(\"-\" * 30)\n",
        "\n",
        "# 3. Determinar la región crítica y la región de rechazo\n",
        "# Para una prueba de cola izquierda con α = 0.05, el valor crítico Z es el valor\n",
        "# tal que el área a su izquierda es α.\n",
        "z_critico = stats.norm.ppf(alpha)\n",
        "\n",
        "print(\"3. Región Crítica y Región de Rechazo:\")\n",
        "print(f\"   Nivel de significancia (α): {alpha}\")\n",
        "print(f\"   Valor crítico Z (para α={alpha} en cola izquierda): {z_critico:.3f}\")\n",
        "print(f\"   Región de Rechazo: Rechazar H0 si Z_estadístico < {z_critico:.3f}\")\n",
        "print(\"-\" * 30)\n",
        "\n",
        "# 4. Concluir si se rechaza H0\n",
        "print(\"4. Conclusión:\")\n",
        "if z_estadistico < z_critico:\n",
        "    print(f\"   El estadístico Z calculado ({z_estadistico:.3f}) es menor que el valor crítico Z ({z_critico:.3f}).\")\n",
        "    print(\"   Por lo tanto, se rechaza la hipótesis nula (H0).\")\n",
        "    print(f\"   Hay suficiente evidencia estadística con un nivel de significancia de {alpha} para concluir que la reducción promedio de la presión arterial es menor a {mu_0} mmHg.\")\n",
        "else:\n",
        "    print(f\"   El estadístico Z calculado ({z_estadistico:.3f}) no es menor que el valor crítico Z ({z_critico:.3f}).\")\n",
        "    print(\"   Por lo tanto, no se rechaza la hipótesis nula (H0).\")\n",
        "    print(f\"   No hay suficiente evidencia estadística con un nivel de significancia de {alpha} para concluir que la reducción promedio de la presión arterial es menor a {mu_0} mmHg.\")"
      ],
      "metadata": {
        "colab": {
          "base_uri": "https://localhost:8080/"
        },
        "id": "tUWs6CJKzdXF",
        "outputId": "9d34259a-fdc7-407d-f4f4-e2e4c0de10a0"
      },
      "execution_count": 3,
      "outputs": [
        {
          "output_type": "stream",
          "name": "stdout",
          "text": [
            "1. Hipótesis:\n",
            "   Hipótesis Nula (H0): μ = 10 mmHg (La reducción promedio de la presión arterial es 10 mmHg)\n",
            "   Hipótesis Alternativa (H1): μ < 10 mmHg (La reducción promedio de la presión arterial es menor a 10 mmHg - prueba de cola izquierda)\n",
            "------------------------------\n",
            "2. Cálculo del Estadístico Z:\n",
            "   Error estándar: 0.600\n",
            "   Estadístico Z calculado: -3.333\n",
            "------------------------------\n",
            "3. Región Crítica y Región de Rechazo:\n",
            "   Nivel de significancia (α): 0.05\n",
            "   Valor crítico Z (para α=0.05 en cola izquierda): -1.645\n",
            "   Región de Rechazo: Rechazar H0 si Z_estadístico < -1.645\n",
            "------------------------------\n",
            "4. Conclusión:\n",
            "   El estadístico Z calculado (-3.333) es menor que el valor crítico Z (-1.645).\n",
            "   Por lo tanto, se rechaza la hipótesis nula (H0).\n",
            "   Hay suficiente evidencia estadística con un nivel de significancia de 0.05 para concluir que la reducción promedio de la presión arterial es menor a 10 mmHg.\n"
          ]
        }
      ]
    },
    {
      "cell_type": "code",
      "source": [
        "# Ejercicio 25: Llenado de botellas\n",
        "import math\n",
        "import scipy.stats as stats\n",
        "\n",
        "# Datos del problema\n",
        "mu_0 = 500          # Media poblacional bajo la hipótesis nula (volumen objetivo de llenado)\n",
        "media_muestral = 498 # Media de la muestra de botellas\n",
        "sigma = 5           # Desviación estándar poblacional\n",
        "n = 60               # Tamaño de la muestra\n",
        "alpha = 0.01         # Nivel de significancia\n",
        "\n",
        "# 1. Plantear las hipótesis nula y alternativa\n",
        "print(\"1. Hipótesis:\")\n",
        "print(f\"   Hipótesis Nula (H0): μ = {mu_0} mL (El volumen promedio de llenado es 500 mL)\")\n",
        "print(f\"   Hipótesis Alternativa (H1): μ ≠ {mu_0} mL (El volumen promedio de llenado es diferente a 500 mL - prueba de dos colas)\")\n",
        "print(\"-\" * 30)\n",
        "\n",
        "# 2. Calcular el estadístico Z\n",
        "# Fórmula del estadístico Z para la media (sigma conocida): Z = (media_muestral - mu_0) / (sigma / sqrt(n))\n",
        "error_estandar = sigma / math.sqrt(n)\n",
        "z_estadistico = (media_muestral - mu_0) / error_estandar\n",
        "\n",
        "print(\"2. Cálculo del Estadístico Z:\")\n",
        "print(f\"   Error estándar: {error_estandar:.3f}\")\n",
        "print(f\"   Estadístico Z calculado: {z_estadistico:.3f}\")\n",
        "print(\"-\" * 30)\n",
        "\n",
        "# 3. Determinar la región crítica y la región de rechazo\n",
        "# Para una prueba de dos colas con α = 0.01, dividimos α en dos (α/2 = 0.005)\n",
        "# y encontramos los valores críticos Z que dejan α/2 en cada cola.\n",
        "z_critico_inferior = stats.norm.ppf(alpha/2)\n",
        "z_critico_superior = stats.norm.ppf(1 - alpha/2)\n",
        "\n",
        "print(\"3. Región Crítica y Región de Rechazo:\")\n",
        "print(f\"   Nivel de significancia (α): {alpha}\")\n",
        "print(f\"   α/2: {alpha/2}\")\n",
        "print(f\"   Valores críticos Z (para α={alpha} en dos colas): {z_critico_inferior:.3f} y {z_critico_superior:.3f}\")\n",
        "print(f\"   Región de Rechazo: Rechazar H0 si Z_estadístico < {z_critico_inferior:.3f} o Z_estadístico > {z_critico_superior:.3f}\")\n",
        "print(\"-\" * 30)\n",
        "\n",
        "# 4. Concluir si se rechaza H0\n",
        "print(\"4. Conclusión:\")\n",
        "if z_estadistico < z_critico_inferior or z_estadistico > z_critico_superior:\n",
        "    print(f\"   El estadístico Z calculado ({z_estadistico:.3f}) cae en la región de rechazo.\")\n",
        "    print(\"   Por lo tanto, se rechaza la hipótesis nula (H0).\")\n",
        "    print(f\"   Hay suficiente evidencia estadística con un nivel de significancia de {alpha} para concluir que el volumen promedio de llenado es diferente a {mu_0} mL.\")\n",
        "else:\n",
        "    print(f\"   El estadístico Z calculado ({z_estadistico:.3f}) no cae en la región de rechazo.\")\n",
        "    print(\"   Por lo tanto, no se rechaza la hipótesis nula (H0).\")\n",
        "    print(f\"   No hay suficiente evidencia estadística con un nivel de significancia de {alpha} para concluir que el volumen promedio de llenado es diferente a {mu_0} mL.\")"
      ],
      "metadata": {
        "colab": {
          "base_uri": "https://localhost:8080/"
        },
        "id": "aKNGlTeCz3P9",
        "outputId": "5ef1a240-78e7-4e4e-851b-06c139ce78fa"
      },
      "execution_count": 4,
      "outputs": [
        {
          "output_type": "stream",
          "name": "stdout",
          "text": [
            "1. Hipótesis:\n",
            "   Hipótesis Nula (H0): μ = 500 mL (El volumen promedio de llenado es 500 mL)\n",
            "   Hipótesis Alternativa (H1): μ ≠ 500 mL (El volumen promedio de llenado es diferente a 500 mL - prueba de dos colas)\n",
            "------------------------------\n",
            "2. Cálculo del Estadístico Z:\n",
            "   Error estándar: 0.645\n",
            "   Estadístico Z calculado: -3.098\n",
            "------------------------------\n",
            "3. Región Crítica y Región de Rechazo:\n",
            "   Nivel de significancia (α): 0.01\n",
            "   α/2: 0.005\n",
            "   Valores críticos Z (para α=0.01 en dos colas): -2.576 y 2.576\n",
            "   Región de Rechazo: Rechazar H0 si Z_estadístico < -2.576 o Z_estadístico > 2.576\n",
            "------------------------------\n",
            "4. Conclusión:\n",
            "   El estadístico Z calculado (-3.098) cae en la región de rechazo.\n",
            "   Por lo tanto, se rechaza la hipótesis nula (H0).\n",
            "   Hay suficiente evidencia estadística con un nivel de significancia de 0.01 para concluir que el volumen promedio de llenado es diferente a 500 mL.\n"
          ]
        }
      ]
    },
    {
      "cell_type": "code",
      "source": [
        "# Ejercicio 26: Tiempo de entrega a domicilio\n",
        "import math\n",
        "import scipy.stats as stats\n",
        "\n",
        "# Datos del problema\n",
        "mu_0 = 25          # Media poblacional bajo la hipótesis nula (tiempo promedio afirmado por el restaurante)\n",
        "media_muestral = 28 # Media de la muestra de entregas\n",
        "s = 4              # Desviación estándar muestral\n",
        "n = 15             # Tamaño de la muestra\n",
        "alpha = 0.05       # Nivel de significancia\n",
        "grados_libertad = n - 1 # Grados de libertad para la distribución t\n",
        "\n",
        "# 1. Plantear las hipótesis nula y alternativa\n",
        "print(\"1. Hipótesis:\")\n",
        "print(f\"   Hipótesis Nula (H0): μ = {mu_0} minutos (El tiempo promedio de entrega es 25 minutos)\")\n",
        "print(f\"   Hipótesis Alternativa (H1): μ > {mu_0} minutos (El tiempo promedio de entrega es mayor a 25 minutos - prueba de cola derecha)\")\n",
        "print(\"-\" * 30)\n",
        "\n",
        "# 2. Calcular el estadístico t\n",
        "# Fórmula del estadístico t para la media (sigma desconocida): t = (media_muestral - mu_0) / (s / sqrt(n))\n",
        "error_estandar = s / math.sqrt(n)\n",
        "t_estadistico = (media_muestral - mu_0) / error_estandar\n",
        "\n",
        "print(\"2. Cálculo del Estadístico t:\")\n",
        "print(f\"   Error estándar: {error_estandar:.3f}\")\n",
        "print(f\"   Estadístico t calculado: {t_estadistico:.3f}\")\n",
        "print(\"-\" * 30)\n",
        "\n",
        "# 3. Determinar la región crítica y la región de rechazo\n",
        "# Para una prueba de cola derecha con α = 0.05 y n-1 grados de libertad,\n",
        "# el valor crítico t es el valor tal que el área a su derecha es α.\n",
        "t_critico = stats.t.ppf(1 - alpha, grados_libertad)\n",
        "\n",
        "print(\"3. Región Crítica y Región de Rechazo:\")\n",
        "print(f\"   Nivel de significancia (α): {alpha}\")\n",
        "print(f\"   Grados de libertad: {grados_libertad}\")\n",
        "print(f\"   Valor crítico t (para α={alpha} en cola derecha con {grados_libertad} GL): {t_critico:.3f}\")\n",
        "print(f\"   Región de Rechazo: Rechazar H0 si t_estadístico > {t_critico:.3f}\")\n",
        "print(\"-\" * 30)\n",
        "\n",
        "# 4. Concluir si se rechaza H0\n",
        "print(\"4. Conclusión:\")\n",
        "if t_estadistico > t_critico:\n",
        "    print(f\"   El estadístico t calculado ({t_estadistico:.3f}) cae en la región de rechazo.\")\n",
        "    print(\"   Por lo tanto, se rechaza la hipótesis nula (H0).\")\n",
        "    print(f\"   Hay suficiente evidencia estadística con un nivel de significancia de {alpha} para concluir que el tiempo promedio de entrega es mayor a {mu_0} minutos.\")\n",
        "else:\n",
        "    print(f\"   El estadístico t calculado ({t_estadistico:.3f}) no cae en la región de rechazo.\")\n",
        "    print(\"   Por lo tanto, no se rechaza la hipótesis nula (H0).\")\n",
        "    print(f\"   No hay suficiente evidencia estadística con un nivel de significancia de {alpha} para concluir que el tiempo promedio de entrega es mayor a {mu_0} minutos.\")"
      ],
      "metadata": {
        "colab": {
          "base_uri": "https://localhost:8080/"
        },
        "id": "Ywu8Lds-0KbE",
        "outputId": "ba61b34b-a06c-45af-cd52-8f9e053249d6"
      },
      "execution_count": 5,
      "outputs": [
        {
          "output_type": "stream",
          "name": "stdout",
          "text": [
            "1. Hipótesis:\n",
            "   Hipótesis Nula (H0): μ = 25 minutos (El tiempo promedio de entrega es 25 minutos)\n",
            "   Hipótesis Alternativa (H1): μ > 25 minutos (El tiempo promedio de entrega es mayor a 25 minutos - prueba de cola derecha)\n",
            "------------------------------\n",
            "2. Cálculo del Estadístico t:\n",
            "   Error estándar: 1.033\n",
            "   Estadístico t calculado: 2.905\n",
            "------------------------------\n",
            "3. Región Crítica y Región de Rechazo:\n",
            "   Nivel de significancia (α): 0.05\n",
            "   Grados de libertad: 14\n",
            "   Valor crítico t (para α=0.05 en cola derecha con 14 GL): 1.761\n",
            "   Región de Rechazo: Rechazar H0 si t_estadístico > 1.761\n",
            "------------------------------\n",
            "4. Conclusión:\n",
            "   El estadístico t calculado (2.905) cae en la región de rechazo.\n",
            "   Por lo tanto, se rechaza la hipótesis nula (H0).\n",
            "   Hay suficiente evidencia estadística con un nivel de significancia de 0.05 para concluir que el tiempo promedio de entrega es mayor a 25 minutos.\n"
          ]
        }
      ]
    },
    {
      "cell_type": "code",
      "source": [
        "# Ejercicio 27: Promedio clase de matemáticas\n",
        "import math\n",
        "import scipy.stats as stats\n",
        "\n",
        "# Datos del problema\n",
        "mu_0 = 80          # Media poblacional bajo la hipótesis nula (promedio afirmado por el colegio)\n",
        "media_muestral = 75 # Media de la muestra de estudiantes\n",
        "s = 8              # Desviación estándar muestral\n",
        "n = 12             # Tamaño de la muestra\n",
        "alpha = 0.01       # Nivel de significancia\n",
        "grados_libertad = n - 1 # Grados de libertad para la distribución t\n",
        "\n",
        "# 1. Plantear las hipótesis nula y alternativa\n",
        "print(\"1. Hipótesis:\")\n",
        "print(f\"   Hipótesis Nula (H0): μ = {mu_0} puntos (El promedio de la clase es 80 puntos)\")\n",
        "print(f\"   Hipótesis Alternativa (H1): μ ≠ {mu_0} puntos (El promedio de la clase es diferente a 80 puntos - prueba de dos colas)\")\n",
        "print(\"-\" * 30)\n",
        "\n",
        "# 2. Calcular el estadístico t\n",
        "# Fórmula del estadístico t para la media (sigma desconocida): t = (media_muestral - mu_0) / (s / sqrt(n))\n",
        "error_estandar = s / math.sqrt(n)\n",
        "t_estadistico = (media_muestral - mu_0) / error_estandar\n",
        "\n",
        "print(\"2. Cálculo del Estadístico t:\")\n",
        "print(f\"   Error estándar: {error_estandar:.3f}\")\n",
        "print(f\"   Estadístico t calculado: {t_estadistico:.3f}\")\n",
        "print(\"-\" * 30)\n",
        "\n",
        "# 3. Determinar la región crítica y la región de rechazo\n",
        "# Para una prueba de dos colas con α = 0.01 y n-1 grados de libertad,\n",
        "# dividimos α en dos (α/2 = 0.005) y encontramos los valores críticos t que dejan α/2 en cada cola.\n",
        "t_critico_inferior = stats.t.ppf(alpha/2, grados_libertad)\n",
        "t_critico_superior = stats.t.ppf(1 - alpha/2, grados_libertad)\n",
        "\n",
        "\n",
        "print(\"3. Región Crítica y Región de Rechazo:\")\n",
        "print(f\"   Nivel de significancia (α): {alpha}\")\n",
        "print(f\"   α/2: {alpha/2}\")\n",
        "print(f\"   Grados de libertad: {grados_libertad}\")\n",
        "print(f\"   Valores críticos t (para α={alpha} en dos colas con {grados_libertad} GL): {t_critico_inferior:.3f} y {t_critico_superior:.3f}\")\n",
        "print(f\"   Región de Rechazo: Rechazar H0 si t_estadístico < {t_critico_inferior:.3f} o t_estadístico > {t_critico_superior:.3f}\")\n",
        "print(\"-\" * 30)\n",
        "\n",
        "# 4. Concluir si se rechaza H0\n",
        "print(\"4. Conclusión:\")\n",
        "if t_estadistico < t_critico_inferior or t_estadistico > t_critico_superior:\n",
        "    print(f\"   El estadístico t calculado ({t_estadistico:.3f}) cae en la región de rechazo.\")\n",
        "    print(\"   Por lo tanto, se rechaza la hipótesis nula (H0).\")\n",
        "    print(f\"   Hay suficiente evidencia estadística con un nivel de significancia de {alpha} para concluir que el promedio de la clase es diferente a {mu_0} puntos.\")\n",
        "else:\n",
        "    print(f\"   El estadístico t calculado ({t_estadistico:.3f}) no cae en la región de rechazo.\")\n",
        "    print(\"   Por lo tanto, no se rechaza la hipótesis nula (H0).\")\n",
        "    print(f\"   No hay suficiente evidencia estadística con un nivel de significancia de {alpha} para concluir que el promedio de la clase es diferente a {mu_0} puntos.\")"
      ],
      "metadata": {
        "colab": {
          "base_uri": "https://localhost:8080/"
        },
        "id": "Wqu66Q6T0V2F",
        "outputId": "b0c3c0b2-cf1e-4512-ec4c-539e8e93a85f"
      },
      "execution_count": 6,
      "outputs": [
        {
          "output_type": "stream",
          "name": "stdout",
          "text": [
            "1. Hipótesis:\n",
            "   Hipótesis Nula (H0): μ = 80 puntos (El promedio de la clase es 80 puntos)\n",
            "   Hipótesis Alternativa (H1): μ ≠ 80 puntos (El promedio de la clase es diferente a 80 puntos - prueba de dos colas)\n",
            "------------------------------\n",
            "2. Cálculo del Estadístico t:\n",
            "   Error estándar: 2.309\n",
            "   Estadístico t calculado: -2.165\n",
            "------------------------------\n",
            "3. Región Crítica y Región de Rechazo:\n",
            "   Nivel de significancia (α): 0.01\n",
            "   α/2: 0.005\n",
            "   Grados de libertad: 11\n",
            "   Valores críticos t (para α=0.01 en dos colas con 11 GL): -3.106 y 3.106\n",
            "   Región de Rechazo: Rechazar H0 si t_estadístico < -3.106 o t_estadístico > 3.106\n",
            "------------------------------\n",
            "4. Conclusión:\n",
            "   El estadístico t calculado (-2.165) no cae en la región de rechazo.\n",
            "   Por lo tanto, no se rechaza la hipótesis nula (H0).\n",
            "   No hay suficiente evidencia estadística con un nivel de significancia de 0.01 para concluir que el promedio de la clase es diferente a 80 puntos.\n"
          ]
        }
      ]
    },
    {
      "cell_type": "code",
      "source": [
        "# Ejercicio 28: Consumo de combustible de autos\n",
        "import math\n",
        "import scipy.stats as stats\n",
        "\n",
        "# Datos del problema\n",
        "mu_0 = 15          # Media poblacional bajo la hipótesis nula (consumo afirmado por el fabricante)\n",
        "media_muestral = 14 # Media de la muestra de autos\n",
        "s = 1.2            # Desviación estándar muestral\n",
        "n = 10             # Tamaño de la muestra\n",
        "alpha = 0.05       # Nivel de significancia\n",
        "grados_libertad = n - 1 # Grados de libertad para la distribución t\n",
        "\n",
        "# 1. Plantear las hipótesis nula y alternativa\n",
        "print(\"1. Hipótesis:\")\n",
        "print(f\"   Hipótesis Nula (H0): μ = {mu_0} km/L (El consumo promedio es 15 km/L)\")\n",
        "print(f\"   Hipótesis Alternativa (H1): μ ≠ {mu_0} km/L (El consumo promedio es diferente a 15 km/L - prueba de dos colas)\")\n",
        "print(\"-\" * 30)\n",
        "\n",
        "# 2. Calcular el estadístico t\n",
        "# Fórmula del estadístico t para la media (sigma desconocida): t = (media_muestral - mu_0) / (s / sqrt(n))\n",
        "error_estandar = s / math.sqrt(n)\n",
        "t_estadistico = (media_muestral - mu_0) / error_estandar\n",
        "\n",
        "print(\"2. Cálculo del Estadístico t:\")\n",
        "print(f\"   Error estándar: {error_estandar:.3f}\")\n",
        "print(f\"   Estadístico t calculado: {t_estadistico:.3f}\")\n",
        "print(\"-\" * 30)\n",
        "\n",
        "# 3. Determinar la región crítica y la región de rechazo\n",
        "# Para una prueba de dos colas con α = 0.05 y n-1 grados de libertad,\n",
        "# dividimos α en dos (α/2 = 0.025) y encontramos los valores críticos t que dejan α/2 en cada cola.\n",
        "t_critico_inferior = stats.t.ppf(alpha/2, grados_libertad)\n",
        "t_critico_superior = stats.t.ppf(1 - alpha/2, grados_libertad)\n",
        "\n",
        "\n",
        "print(\"3. Región Crítica y Región de Rechazo:\")\n",
        "print(f\"   Nivel de significancia (α): {alpha}\")\n",
        "print(f\"   α/2: {alpha/2}\")\n",
        "print(f\"   Grados de libertad: {grados_libertad}\")\n",
        "print(f\"   Valores críticos t (para α={alpha} en dos colas con {grados_libertad} GL): {t_critico_inferior:.3f} y {t_critico_superior:.3f}\")\n",
        "print(f\"   Región de Rechazo: Rechazar H0 si t_estadístico < {t_critico_inferior:.3f} o t_estadistico > {t_critico_superior:.3f}\")\n",
        "print(\"-\" * 30)\n",
        "\n",
        "# 4. Concluir si se rechaza H0\n",
        "print(\"4. Conclusión:\")\n",
        "if t_estadistico < t_critico_inferior or t_estadistico > t_critico_superior:\n",
        "    print(f\"   El estadístico t calculado ({t_estadistico:.3f}) cae en la región de rechazo.\")\n",
        "    print(\"   Por lo tanto, se rechaza la hipótesis nula (H0).\")\n",
        "    print(f\"   Hay suficiente evidencia estadística con un nivel de significancia de {alpha} para concluir que el consumo promedio de combustible es diferente a {mu_0} km/L.\")\n",
        "else:\n",
        "    print(f\"   El estadístico t calculado ({t_estadistico:.3f}) no cae en la región de rechazo.\")\n",
        "    print(\"   Por lo tanto, no se rechaza la hipótesis nula (H0).\")\n",
        "    print(f\"   No hay suficiente evidencia estadística con un nivel de significancia de {alpha} para concluir que el consumo promedio de combustible es diferente a {mu_0} km/L.\")"
      ],
      "metadata": {
        "colab": {
          "base_uri": "https://localhost:8080/"
        },
        "id": "XsxOIQsB0iBl",
        "outputId": "9d8a3291-c8b0-40bc-c518-dda2e937d418"
      },
      "execution_count": 7,
      "outputs": [
        {
          "output_type": "stream",
          "name": "stdout",
          "text": [
            "1. Hipótesis:\n",
            "   Hipótesis Nula (H0): μ = 15 km/L (El consumo promedio es 15 km/L)\n",
            "   Hipótesis Alternativa (H1): μ ≠ 15 km/L (El consumo promedio es diferente a 15 km/L - prueba de dos colas)\n",
            "------------------------------\n",
            "2. Cálculo del Estadístico t:\n",
            "   Error estándar: 0.379\n",
            "   Estadístico t calculado: -2.635\n",
            "------------------------------\n",
            "3. Región Crítica y Región de Rechazo:\n",
            "   Nivel de significancia (α): 0.05\n",
            "   α/2: 0.025\n",
            "   Grados de libertad: 9\n",
            "   Valores críticos t (para α=0.05 en dos colas con 9 GL): -2.262 y 2.262\n",
            "   Región de Rechazo: Rechazar H0 si t_estadístico < -2.262 o t_estadistico > 2.262\n",
            "------------------------------\n",
            "4. Conclusión:\n",
            "   El estadístico t calculado (-2.635) cae en la región de rechazo.\n",
            "   Por lo tanto, se rechaza la hipótesis nula (H0).\n",
            "   Hay suficiente evidencia estadística con un nivel de significancia de 0.05 para concluir que el consumo promedio de combustible es diferente a 15 km/L.\n"
          ]
        }
      ]
    },
    {
      "cell_type": "code",
      "source": [
        "# Ejercicio 29: Suplemento de hierro\n",
        "import math\n",
        "import scipy.stats as stats\n",
        "\n",
        "# Datos del problema\n",
        "mu_0 = 2           # Media poblacional bajo la hipótesis nula (aumento prometido por el suplemento)\n",
        "media_muestral = 1.5 # Media del aumento en la muestra\n",
        "s = 0.6            # Desviación estándar muestral\n",
        "n = 8              # Tamaño de la muestra\n",
        "alpha = 0.10       # Nivel de significancia\n",
        "grados_libertad = n - 1 # Grados de libertad para la distribución t\n",
        "\n",
        "# 1. Plantear las hipótesis nula y alternativa\n",
        "print(\"1. Hipótesis:\")\n",
        "print(f\"   Hipótesis Nula (H0): μ = {mu_0} mg/dL (El aumento promedio es 2 mg/dL)\")\n",
        "print(f\"   Hipótesis Alternativa (H1): μ < {mu_0} mg/dL (El aumento promedio es menor a 2 mg/dL - prueba de cola izquierda)\")\n",
        "print(\"-\" * 30)\n",
        "\n",
        "# 2. Calcular el estadístico t\n",
        "# Fórmula del estadístico t para la media (sigma desconocida): t = (media_muestral - mu_0) / (s / sqrt(n))\n",
        "error_estandar = s / math.sqrt(n)\n",
        "t_estadistico = (media_muestral - mu_0) / error_estandar\n",
        "\n",
        "print(\"2. Cálculo del Estadístico t:\")\n",
        "print(f\"   Error estándar: {error_estandar:.3f}\")\n",
        "print(f\"   Estadístico t calculado: {t_estadistico:.3f}\")\n",
        "print(\"-\" * 30)\n",
        "\n",
        "# 3. Determinar la región crítica y la región de rechazo\n",
        "# Para una prueba de cola izquierda con α = 0.10 y n-1 grados de libertad,\n",
        "# el valor crítico t es el valor tal que el área a su izquierda es α.\n",
        "t_critico = stats.t.ppf(alpha, grados_libertad)\n",
        "\n",
        "\n",
        "print(\"3. Región Crítica y Región de Rechazo:\")\n",
        "print(f\"   Nivel de significancia (α): {alpha}\")\n",
        "print(f\"   Grados de libertad: {grados_libertad}\")\n",
        "print(f\"   Valor crítico t (para α={alpha} en cola izquierda con {grados_libertad} GL): {t_critico:.3f}\")\n",
        "print(f\"   Región de Rechazo: Rechazar H0 si t_estadístico < {t_critico:.3f}\")\n",
        "print(\"-\" * 30)\n",
        "\n",
        "# 4. Concluir si se rechaza H0\n",
        "print(\"4. Conclusión:\")\n",
        "if t_estadistico < t_critico:\n",
        "    print(f\"   El estadístico t calculado ({t_estadistico:.3f}) es menor que el valor crítico t ({t_critico:.3f}).\")\n",
        "    print(\"   Por lo tanto, se rechaza la hipótesis nula (H0).\")\n",
        "    print(f\"   Hay suficiente evidencia estadística con un nivel de significancia de {alpha} para concluir que el aumento promedio de hierro es menor a {mu_0} mg/dL.\")\n",
        "else:\n",
        "    print(f\"   El estadístico t calculado ({t_estadistico:.3f}) no es menor que el valor crítico t ({t_critico:.3f}).\")\n",
        "    print(\"   Por lo tanto, no se rechaza la hipótesis nula (H0).\")\n",
        "    print(f\"   No hay suficiente evidencia estadística con un nivel de significancia de {alpha} para concluir que el aumento promedio de hierro es menor a {mu_0} mg/dL.\")"
      ],
      "metadata": {
        "colab": {
          "base_uri": "https://localhost:8080/"
        },
        "id": "_t2cnSwU0jA8",
        "outputId": "f51e3f0d-5a60-4f37-ef13-8717746570e8"
      },
      "execution_count": 8,
      "outputs": [
        {
          "output_type": "stream",
          "name": "stdout",
          "text": [
            "1. Hipótesis:\n",
            "   Hipótesis Nula (H0): μ = 2 mg/dL (El aumento promedio es 2 mg/dL)\n",
            "   Hipótesis Alternativa (H1): μ < 2 mg/dL (El aumento promedio es menor a 2 mg/dL - prueba de cola izquierda)\n",
            "------------------------------\n",
            "2. Cálculo del Estadístico t:\n",
            "   Error estándar: 0.212\n",
            "   Estadístico t calculado: -2.357\n",
            "------------------------------\n",
            "3. Región Crítica y Región de Rechazo:\n",
            "   Nivel de significancia (α): 0.1\n",
            "   Grados de libertad: 7\n",
            "   Valor crítico t (para α=0.1 en cola izquierda con 7 GL): -1.415\n",
            "   Región de Rechazo: Rechazar H0 si t_estadístico < -1.415\n",
            "------------------------------\n",
            "4. Conclusión:\n",
            "   El estadístico t calculado (-2.357) es menor que el valor crítico t (-1.415).\n",
            "   Por lo tanto, se rechaza la hipótesis nula (H0).\n",
            "   Hay suficiente evidencia estadística con un nivel de significancia de 0.1 para concluir que el aumento promedio de hierro es menor a 2 mg/dL.\n"
          ]
        }
      ]
    },
    {
      "cell_type": "code",
      "source": [
        "# Ejercicio 30: Duración de focos\n",
        "import math\n",
        "import scipy.stats as stats\n",
        "\n",
        "# Datos del problema\n",
        "mu_0 = 10000        # Media poblacional bajo la hipótesis nula (duración afirmada por el fabricante)\n",
        "media_muestral = 9800 # Media de la muestra de focos\n",
        "s = 300             # Desviación estándar muestral\n",
        "n = 20              # Tamaño de la muestra\n",
        "alpha = 0.05        # Nivel de significancia\n",
        "grados_libertad = n - 1 # Grados de libertad para la distribución t\n",
        "\n",
        "# 1. Plantear las hipótesis nula y alternativa\n",
        "print(\"1. Hipótesis:\")\n",
        "print(f\"   Hipótesis Nula (H0): μ = {mu_0} horas (La duración promedio de los focos es 10,000 horas)\")\n",
        "print(f\"   Hipótesis Alternativa (H1): μ ≠ {mu_0} horas (La duración promedio de los focos es diferente a 10,000 horas - prueba de dos colas)\")\n",
        "print(\"-\" * 30)\n",
        "\n",
        "# 2. Calcular el estadístico t\n",
        "# Fórmula del estadístico t para la media (sigma desconocida): t = (media_muestral - mu_0) / (s / sqrt(n))\n",
        "error_estandar = s / math.sqrt(n)\n",
        "t_estadistico = (media_muestral - mu_0) / error_estandar\n",
        "\n",
        "print(\"2. Cálculo del Estadístico t:\")\n",
        "print(f\"   Error estándar: {error_estandar:.3f}\")\n",
        "print(f\"   Estadístico t calculado: {t_estadistico:.3f}\")\n",
        "print(\"-\" * 30)\n",
        "\n",
        "# 3. Determinar la región crítica y la región de rechazo\n",
        "# Para una prueba de dos colas con α = 0.05 y n-1 grados de libertad,\n",
        "# dividimos α en dos (α/2 = 0.025) y encontramos los valores críticos t que dejan α/2 en cada cola.\n",
        "t_critico_inferior = stats.t.ppf(alpha/2, grados_libertad)\n",
        "t_critico_superior = stats.t.ppf(1 - alpha/2, grados_libertad)\n",
        "\n",
        "\n",
        "print(\"3. Región Crítica y Región de Rechazo:\")\n",
        "print(f\"   Nivel de significancia (α): {alpha}\")\n",
        "print(f\"   α/2: {alpha/2}\")\n",
        "print(f\"   Grados de libertad: {grados_libertad}\")\n",
        "print(f\"   Valores críticos t (para α={alpha} en dos colas con {grados_libertad} GL): {t_critico_inferior:.3f} y {t_critico_superior:.3f}\")\n",
        "print(f\"   Región de Rechazo: Rechazar H0 si t_estadístico < {t_critico_inferior:.3f} o t_estadístico > {t_critico_superior:.3f}\")\n",
        "print(\"-\" * 30)\n",
        "\n",
        "# 4. Concluir si se rechaza H0\n",
        "print(\"4. Conclusión:\")\n",
        "if t_estadistico < t_critico_inferior or t_estadistico > t_critico_superior:\n",
        "    print(f\"   El estadístico t calculado ({t_estadistico:.3f}) cae en la región de rechazo.\")\n",
        "    print(\"   Por lo tanto, se rechaza la hipótesis nula (H0).\")\n",
        "    print(f\"   Hay suficiente evidencia estadística con un nivel de significancia de {alpha} para concluir que la duración promedio de los focos es diferente a {mu_0} horas.\")\n",
        "else:\n",
        "    print(f\"   El estadístico t calculado ({t_estadistico:.3f}) no cae en la región de rechazo.\")\n",
        "    print(\"   Por lo tanto, no se rechaza la hipótesis nula (H0).\")\n",
        "    print(f\"   No hay suficiente evidencia estadística con un nivel de significancia de {alpha} para concluir que la duración promedio de los focos es diferente a {mu_0} horas.\")"
      ],
      "metadata": {
        "colab": {
          "base_uri": "https://localhost:8080/"
        },
        "id": "-JA4LRp80jrk",
        "outputId": "a8ca1524-19af-49fa-ecc5-2cb268f73b03"
      },
      "execution_count": 9,
      "outputs": [
        {
          "output_type": "stream",
          "name": "stdout",
          "text": [
            "1. Hipótesis:\n",
            "   Hipótesis Nula (H0): μ = 10000 horas (La duración promedio de los focos es 10,000 horas)\n",
            "   Hipótesis Alternativa (H1): μ ≠ 10000 horas (La duración promedio de los focos es diferente a 10,000 horas - prueba de dos colas)\n",
            "------------------------------\n",
            "2. Cálculo del Estadístico t:\n",
            "   Error estándar: 67.082\n",
            "   Estadístico t calculado: -2.981\n",
            "------------------------------\n",
            "3. Región Crítica y Región de Rechazo:\n",
            "   Nivel de significancia (α): 0.05\n",
            "   α/2: 0.025\n",
            "   Grados de libertad: 19\n",
            "   Valores críticos t (para α=0.05 en dos colas con 19 GL): -2.093 y 2.093\n",
            "   Región de Rechazo: Rechazar H0 si t_estadístico < -2.093 o t_estadístico > 2.093\n",
            "------------------------------\n",
            "4. Conclusión:\n",
            "   El estadístico t calculado (-2.981) cae en la región de rechazo.\n",
            "   Por lo tanto, se rechaza la hipótesis nula (H0).\n",
            "   Hay suficiente evidencia estadística con un nivel de significancia de 0.05 para concluir que la duración promedio de los focos es diferente a 10000 horas.\n"
          ]
        }
      ]
    },
    {
      "cell_type": "code",
      "source": [
        "# Ejercicio 31: Varianza del tiempo de duración de las llamadas\n",
        "import math\n",
        "import scipy.stats as stats\n",
        "\n",
        "# Datos del problema\n",
        "sigma2_0 = 2.5      # Varianza poblacional bajo la hipótesis nula (afirmación de la compañía)\n",
        "s2 = 4              # Varianza muestral\n",
        "n = 16              # Tamaño de la muestra\n",
        "alpha = 0.05        # Nivel de significancia\n",
        "grados_libertad = n - 1 # Grados de libertad para la distribución Chi-cuadrado\n",
        "\n",
        "# 1. Plantear las hipótesis nula y alternativa\n",
        "print(\"1. Hipótesis:\")\n",
        "print(f\"   Hipótesis Nula (H0): σ² = {sigma2_0} minutos² (La varianza del tiempo de duración de las llamadas es 2.5 minutos²)\")\n",
        "print(f\"   Hipótesis Alternativa (H1): σ² ≠ {sigma2_0} minutos² (La varianza del tiempo de duración de las llamadas es diferente a 2.5 minutos² - prueba de dos colas)\")\n",
        "print(\"-\" * 30)\n",
        "\n",
        "# 2. Calcular el estadístico Chi-cuadrado\n",
        "# Fórmula del estadístico Chi-cuadrado para la varianza: χ² = ((n - 1) * s²) / σ²₀\n",
        "chi2_estadistico = ((n - 1) * s2) / sigma2_0\n",
        "\n",
        "print(\"2. Cálculo del Estadístico Chi-cuadrado:\")\n",
        "print(f\"   Estadístico Chi-cuadrado calculado: {chi2_estadistico:.3f}\")\n",
        "print(\"-\" * 30)\n",
        "\n",
        "# 3. Determinar la región crítica y la región de rechazo\n",
        "# Para una prueba de dos colas con α = 0.05 y n-1 grados de libertad,\n",
        "# dividimos α en dos (α/2 = 0.025) y encontramos los valores críticos Chi-cuadrado\n",
        "# que dejan α/2 en cada cola.\n",
        "chi2_critico_inferior = stats.chi2.ppf(alpha/2, grados_libertad)\n",
        "chi2_critico_superior = stats.chi2.ppf(1 - alpha/2, grados_libertad)\n",
        "\n",
        "print(\"3. Región Crítica y Región de Rechazo:\")\n",
        "print(f\"   Nivel de significancia (α): {alpha}\")\n",
        "print(f\"   α/2: {alpha/2}\")\n",
        "print(f\"   Grados de libertad: {grados_libertad}\")\n",
        "print(f\"   Valores críticos Chi-cuadrado (para α={alpha} en dos colas con {grados_libertad} GL): {chi2_critico_inferior:.3f} y {chi2_critico_superior:.3f}\")\n",
        "print(f\"   Región de Rechazo: Rechazar H0 si χ²_estadístico < {chi2_critico_inferior:.3f} o χ²_estadístico > {chi2_critico_superior:.3f}\")\n",
        "print(\"-\" * 30)\n",
        "\n",
        "# 4. Concluir si se rechaza H0\n",
        "print(\"4. Conclusión:\")\n",
        "if chi2_estadistico < chi2_critico_inferior or chi2_estadistico > chi2_critico_superior:\n",
        "    print(f\"   El estadístico Chi-cuadrado calculado ({chi2_estadistico:.3f}) cae en la región de rechazo.\")\n",
        "    print(\"   Por lo tanto, se rechaza la hipótesis nula (H0).\")\n",
        "    print(f\"   Hay suficiente evidencia estadística con un nivel de significancia de {alpha} para concluir que la varianza poblacional del tiempo de duración de las llamadas es diferente a {sigma2_0} minutos².\")\n",
        "else:\n",
        "    print(f\"   El estadístico Chi-cuadrado calculado ({chi2_estadistico:.3f}) no cae en la región de rechazo.\")\n",
        "    print(\"   Por lo tanto, no se rechaza la hipótesis nula (H0).\")\n",
        "    print(f\"   No hay suficiente evidencia estadística con un nivel de significancia de {alpha} para concluir que la varianza poblacional del tiempo de duración de las llamadas es diferente a {sigma2_0} minutos².\")"
      ],
      "metadata": {
        "colab": {
          "base_uri": "https://localhost:8080/"
        },
        "id": "S4kJeilE0kOz",
        "outputId": "1e6f2cf7-bed5-479b-b7dd-595cfc3a7651"
      },
      "execution_count": 10,
      "outputs": [
        {
          "output_type": "stream",
          "name": "stdout",
          "text": [
            "1. Hipótesis:\n",
            "   Hipótesis Nula (H0): σ² = 2.5 minutos² (La varianza del tiempo de duración de las llamadas es 2.5 minutos²)\n",
            "   Hipótesis Alternativa (H1): σ² ≠ 2.5 minutos² (La varianza del tiempo de duración de las llamadas es diferente a 2.5 minutos² - prueba de dos colas)\n",
            "------------------------------\n",
            "2. Cálculo del Estadístico Chi-cuadrado:\n",
            "   Estadístico Chi-cuadrado calculado: 24.000\n",
            "------------------------------\n",
            "3. Región Crítica y Región de Rechazo:\n",
            "   Nivel de significancia (α): 0.05\n",
            "   α/2: 0.025\n",
            "   Grados de libertad: 15\n",
            "   Valores críticos Chi-cuadrado (para α=0.05 en dos colas con 15 GL): 6.262 y 27.488\n",
            "   Región de Rechazo: Rechazar H0 si χ²_estadístico < 6.262 o χ²_estadístico > 27.488\n",
            "------------------------------\n",
            "4. Conclusión:\n",
            "   El estadístico Chi-cuadrado calculado (24.000) no cae en la región de rechazo.\n",
            "   Por lo tanto, no se rechaza la hipótesis nula (H0).\n",
            "   No hay suficiente evidencia estadística con un nivel de significancia de 0.05 para concluir que la varianza poblacional del tiempo de duración de las llamadas es diferente a 2.5 minutos².\n"
          ]
        }
      ]
    },
    {
      "cell_type": "code",
      "source": [
        "# Ejercicio 32: Varianza del llenado de botellas\n",
        "import math\n",
        "import scipy.stats as stats\n",
        "\n",
        "# Datos del problema\n",
        "sigma2_0 = 1.2      # Varianza poblacional bajo la hipótesis nula (afirmación de la máquina)\n",
        "s2 = 2.0            # Varianza muestral\n",
        "n = 20              # Tamaño de la muestra\n",
        "alpha = 0.01        # Nivel de significancia\n",
        "grados_libertad = n - 1 # Grados de libertad para la distribución Chi-cuadrado\n",
        "\n",
        "# 1. Plantear las hipótesis nula y alternativa\n",
        "print(\"1. Hipótesis:\")\n",
        "print(f\"   Hipótesis Nula (H0): σ² = {sigma2_0} ml² (La varianza del llenado es 1.2 ml²)\")\n",
        "print(f\"   Hipótesis Alternativa (H1): σ² > {sigma2_0} ml² (La varianza del llenado es mayor a 1.2 ml² - prueba de cola derecha)\")\n",
        "print(\"-\" * 30)\n",
        "\n",
        "# 2. Calcule el estadístico χ2\n",
        "# Fórmula del estadístico Chi-cuadrado para la varianza: χ² = ((n - 1) * s²) / σ²₀\n",
        "chi2_estadistico = ((n - 1) * s2) / sigma2_0\n",
        "\n",
        "print(\"2. Cálculo del Estadístico Chi-cuadrado:\")\n",
        "print(f\"   Estadístico Chi-cuadrado calculado: {chi2_estadistico:.3f}\")\n",
        "print(\"-\" * 30)\n",
        "\n",
        "# 3. Determine los grados de libertad y el valor crítico, además de la región crítica y la región de rechazo.\n",
        "# Para una prueba de cola derecha con α = 0.01 y n-1 grados de libertad,\n",
        "# el valor crítico Chi-cuadrado es el valor tal que el área a su derecha es α.\n",
        "chi2_critico = stats.chi2.ppf(1 - alpha, grados_libertad)\n",
        "\n",
        "print(\"3. Región Crítica y Región de Rechazo:\")\n",
        "print(f\"   Nivel de significancia (α): {alpha}\")\n",
        "print(f\"   Grados de libertad: {grados_libertad}\")\n",
        "print(f\"   Valor crítico Chi-cuadrado (para α={alpha} en cola derecha con {grados_libertad} GL): {chi2_critico:.3f}\")\n",
        "print(f\"   Región de Rechazo: Rechazar H0 si χ²_estadístico > {chi2_critico:.3f}\")\n",
        "print(\"-\" * 30)\n",
        "\n",
        "# 4. Concluya si se rechaza H0.\n",
        "print(\"4. Conclusión:\")\n",
        "if chi2_estadistico > chi2_critico:\n",
        "    print(f\"   El estadístico Chi-cuadrado calculado ({chi2_estadistico:.3f}) cae en la región de rechazo.\")\n",
        "    print(\"   Por lo tanto, se rechaza la hipótesis nula (H0).\")\n",
        "    print(f\"   Hay suficiente evidencia estadística con un nivel de significancia de {alpha} para concluir que la varianza poblacional del llenado es mayor a {sigma2_0} ml².\")\n",
        "else:\n",
        "    print(f\"   El estadístico Chi-cuadrado calculado ({chi2_estadistico:.3f}) no cae en la región de rechazo.\")\n",
        "    print(\"   Por lo tanto, no se rechaza la hipótesis nula (H0).\")\n",
        "    print(f\"   No hay suficiente evidencia estadística con un nivel de significancia de {alpha} para concluir que la varianza poblacional del llenado es mayor a {sigma2_0} ml².\")"
      ],
      "metadata": {
        "colab": {
          "base_uri": "https://localhost:8080/"
        },
        "id": "au1QX4yz0ks7",
        "outputId": "74a0db44-1734-4444-8473-ff3afca3f32e"
      },
      "execution_count": 11,
      "outputs": [
        {
          "output_type": "stream",
          "name": "stdout",
          "text": [
            "1. Hipótesis:\n",
            "   Hipótesis Nula (H0): σ² = 1.2 ml² (La varianza del llenado es 1.2 ml²)\n",
            "   Hipótesis Alternativa (H1): σ² > 1.2 ml² (La varianza del llenado es mayor a 1.2 ml² - prueba de cola derecha)\n",
            "------------------------------\n",
            "2. Cálculo del Estadístico Chi-cuadrado:\n",
            "   Estadístico Chi-cuadrado calculado: 31.667\n",
            "------------------------------\n",
            "3. Región Crítica y Región de Rechazo:\n",
            "   Nivel de significancia (α): 0.01\n",
            "   Grados de libertad: 19\n",
            "   Valor crítico Chi-cuadrado (para α=0.01 en cola derecha con 19 GL): 36.191\n",
            "   Región de Rechazo: Rechazar H0 si χ²_estadístico > 36.191\n",
            "------------------------------\n",
            "4. Conclusión:\n",
            "   El estadístico Chi-cuadrado calculado (31.667) no cae en la región de rechazo.\n",
            "   Por lo tanto, no se rechaza la hipótesis nula (H0).\n",
            "   No hay suficiente evidencia estadística con un nivel de significancia de 0.01 para concluir que la varianza poblacional del llenado es mayor a 1.2 ml².\n"
          ]
        }
      ]
    },
    {
      "cell_type": "code",
      "source": [
        "# Ejercicio 33: Varianza del grosor de piezas metálicas\n",
        "import math\n",
        "import scipy.stats as stats\n",
        "\n",
        "# Datos del problema\n",
        "sigma2_0 = 0.5      # Varianza poblacional bajo la hipótesis nula (varianza garantizada)\n",
        "s2 = 0.3            # Varianza muestral\n",
        "n = 12              # Tamaño de la muestra\n",
        "alpha = 0.05        # Nivel de significancia\n",
        "grados_libertad = n - 1 # Grados de libertad para la distribución Chi-cuadrado\n",
        "\n",
        "# 1. Plantear las hipótesis nula y alternativa\n",
        "print(\"1. Hipótesis:\")\n",
        "print(f\"   Hipótesis Nula (H0): σ² = {sigma2_0} mm² (La varianza del grosor es 0.5 mm²)\")\n",
        "print(f\"   Hipótesis Alternativa (H1): σ² < {sigma2_0} mm² (La varianza del grosor es menor a 0.5 mm² - prueba de cola izquierda)\")\n",
        "print(\"-\" * 30)\n",
        "\n",
        "# 2. Calcule el estadístico χ2\n",
        "# Fórmula del estadístico Chi-cuadrado para la varianza: χ² = ((n - 1) * s²) / σ²₀\n",
        "chi2_estadistico = ((n - 1) * s2) / sigma2_0\n",
        "\n",
        "print(\"2. Cálculo del Estadístico Chi-cuadrado:\")\n",
        "print(f\"   Estadístico Chi-cuadrado calculado: {chi2_estadistico:.3f}\")\n",
        "print(\"-\" * 30)\n",
        "\n",
        "# 3. Determine los grados de libertad y el valor crítico, además de la región crítica y la región de rechazo.\n",
        "# Para una prueba de cola izquierda con α = 0.05 y n-1 grados de libertad,\n",
        "# el valor crítico Chi-cuadrado es el valor tal que el área a su izquierda es α.\n",
        "chi2_critico = stats.chi2.ppf(alpha, grados_libertad)\n",
        "\n",
        "\n",
        "print(\"3. Región Crítica y Región de Rechazo:\")\n",
        "print(f\"   Nivel de significancia (α): {alpha}\")\n",
        "print(f\"   Grados de libertad: {grados_libertad}\")\n",
        "print(f\"   Valor crítico Chi-cuadrado (para α={alpha} en cola izquierda con {grados_libertad} GL): {chi2_critico:.3f}\")\n",
        "print(f\"   Región de Rechazo: Rechazar H0 si χ²_estadístico < {chi2_critico:.3f}\")\n",
        "print(\"-\" * 30)\n",
        "\n",
        "# 4. Concluya si se rechaza H0.\n",
        "print(\"4. Conclusión:\")\n",
        "if chi2_estadistico < chi2_critico:\n",
        "    print(f\"   El estadístico Chi-cuadrado calculado ({chi2_estadistico:.3f}) cae en la región de rechazo.\")\n",
        "    print(\"   Por lo tanto, se rechaza la hipótesis nula (H0).\")\n",
        "    print(f\"   Hay suficiente evidencia estadística con un nivel de significancia de {alpha} para concluir que la varianza poblacional del grosor de las piezas metálicas es menor a {sigma2_0} mm².\")\n",
        "else:\n",
        "    print(f\"   El estadístico Chi-cuadrado calculado ({chi2_estadistico:.3f}) no cae en la región de rechazo.\")\n",
        "    print(\"   Por lo tanto, no se rechaza la hipótesis nula (H0).\")\n",
        "    print(f\"   No hay suficiente evidencia estadística con un nivel de significancia de {alpha} para concluir que la varianza poblacional del grosor de las piezas metálicas es menor a {sigma2_0} mm².\")"
      ],
      "metadata": {
        "colab": {
          "base_uri": "https://localhost:8080/"
        },
        "id": "Tqjw1kNJ0lPs",
        "outputId": "086235e8-a068-4b49-8810-05fa089b7660"
      },
      "execution_count": 12,
      "outputs": [
        {
          "output_type": "stream",
          "name": "stdout",
          "text": [
            "1. Hipótesis:\n",
            "   Hipótesis Nula (H0): σ² = 0.5 mm² (La varianza del grosor es 0.5 mm²)\n",
            "   Hipótesis Alternativa (H1): σ² < 0.5 mm² (La varianza del grosor es menor a 0.5 mm² - prueba de cola izquierda)\n",
            "------------------------------\n",
            "2. Cálculo del Estadístico Chi-cuadrado:\n",
            "   Estadístico Chi-cuadrado calculado: 6.600\n",
            "------------------------------\n",
            "3. Región Crítica y Región de Rechazo:\n",
            "   Nivel de significancia (α): 0.05\n",
            "   Grados de libertad: 11\n",
            "   Valor crítico Chi-cuadrado (para α=0.05 en cola izquierda con 11 GL): 4.575\n",
            "   Región de Rechazo: Rechazar H0 si χ²_estadístico < 4.575\n",
            "------------------------------\n",
            "4. Conclusión:\n",
            "   El estadístico Chi-cuadrado calculado (6.600) no cae en la región de rechazo.\n",
            "   Por lo tanto, no se rechaza la hipótesis nula (H0).\n",
            "   No hay suficiente evidencia estadística con un nivel de significancia de 0.05 para concluir que la varianza poblacional del grosor de las piezas metálicas es menor a 0.5 mm².\n"
          ]
        }
      ]
    }
  ]
}